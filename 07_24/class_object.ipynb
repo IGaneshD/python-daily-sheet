{
 "cells": [
  {
   "cell_type": "markdown",
   "metadata": {},
   "source": [
    "# Class in Python\n",
    "\n",
    "class can have methods(functions), attributes(variables, data)\n",
    "\n",
    "syntax:\n",
    "\n",
    "```python\n",
    "class class_Name:\n",
    "    pass\n",
    "```"
   ]
  },
  {
   "cell_type": "code",
   "execution_count": 2,
   "metadata": {},
   "outputs": [],
   "source": [
    "# create a class\n",
    "\n",
    "class House:\n",
    "    pass"
   ]
  },
  {
   "cell_type": "markdown",
   "metadata": {},
   "source": [
    "### Create Object(instance) of class\n",
    "\n",
    "each object have seperate memory location\n",
    "object is created using the class specification\n",
    "\n",
    "```python\n",
    "obj_name = className()\n",
    "```"
   ]
  },
  {
   "cell_type": "code",
   "execution_count": 5,
   "metadata": {},
   "outputs": [
    {
     "name": "stdout",
     "output_type": "stream",
     "text": [
      "False\n",
      "Object1 location --> 1979367364544\n",
      "Object2 location --> 1979367359744\n"
     ]
    }
   ],
   "source": [
    "# creating object of House Class\n",
    "\n",
    "object1 = House()\n",
    "object2 = House()\n",
    "\n",
    "# checking if two objects are same\n",
    "print(object1==object2)\n",
    "\n",
    "# two objects have different memory locations\n",
    "print('Object1 location -->', id(object1))\n",
    "print('Object2 location -->', id(object2))"
   ]
  },
  {
   "cell_type": "code",
   "execution_count": 7,
   "metadata": {},
   "outputs": [
    {
     "name": "stdout",
     "output_type": "stream",
     "text": [
      "True\n"
     ]
    }
   ],
   "source": [
    "# checking if given object is an instance of the class\n",
    "\n",
    "print(isinstance(object1, House))"
   ]
  },
  {
   "cell_type": "markdown",
   "metadata": {},
   "source": [
    "### Every object in python is instance of class 'object'\n",
    "### Every class in python has base class 'object'"
   ]
  },
  {
   "cell_type": "code",
   "execution_count": 11,
   "metadata": {},
   "outputs": [
    {
     "name": "stdout",
     "output_type": "stream",
     "text": [
      "True\n",
      "True\n"
     ]
    }
   ],
   "source": [
    "print(isinstance(object1, object))\n",
    "\n",
    "print(issubclass(House, object))"
   ]
  }
 ],
 "metadata": {
  "kernelspec": {
   "display_name": "Python 3",
   "language": "python",
   "name": "python3"
  },
  "language_info": {
   "codemirror_mode": {
    "name": "ipython",
    "version": 3
   },
   "file_extension": ".py",
   "mimetype": "text/x-python",
   "name": "python",
   "nbconvert_exporter": "python",
   "pygments_lexer": "ipython3",
   "version": "3.12.4"
  }
 },
 "nbformat": 4,
 "nbformat_minor": 2
}
