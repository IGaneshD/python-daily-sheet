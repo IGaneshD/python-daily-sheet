{
 "cells": [
  {
   "cell_type": "markdown",
   "metadata": {},
   "source": [
    "## Data types in Python"
   ]
  },
  {
   "cell_type": "markdown",
   "metadata": {},
   "source": [
    "### List of DataTypes\n",
    "\n",
    "- Numbers\n",
    "    - Integer\n",
    "    - Float\n",
    "    - complex\n",
    "- String\n",
    "- Sequence\n",
    "    - List\n",
    "    - Tuple\n",
    "    - range\n",
    "- Mapping\n",
    "    - Dictionary\n",
    "- Set\n",
    "    - set\n",
    "    - frozenset\n",
    "- Binary\n",
    "    - byte\n",
    "    - bytearray\n",
    "    - memoriview\n",
    "- bool\n",
    "- None"
   ]
  }
 ],
 "metadata": {
  "kernelspec": {
   "display_name": "Python 3",
   "language": "python",
   "name": "python3"
  },
  "language_info": {
   "name": "python",
   "version": "3.12.4"
  }
 },
 "nbformat": 4,
 "nbformat_minor": 2
}
