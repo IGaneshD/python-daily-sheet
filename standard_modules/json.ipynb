{
 "cells": [
  {
   "cell_type": "markdown",
   "metadata": {},
   "source": [
    "# Python JSON module\n",
    "\n",
    "This module handles the serializing and parsing of data "
   ]
  },
  {
   "cell_type": "code",
   "execution_count": 1,
   "metadata": {},
   "outputs": [],
   "source": [
    "# import json module\n",
    "import json"
   ]
  },
  {
   "cell_type": "markdown",
   "metadata": {},
   "source": [
    "### json.dumps()"
   ]
  },
  {
   "cell_type": "code",
   "execution_count": 19,
   "metadata": {},
   "outputs": [
    {
     "name": "stdout",
     "output_type": "stream",
     "text": [
      "{\n",
      "  \"name\": \"Ganesh Deshmukh\",\n",
      "  \"email\": \"ganesh.onweb@gmail.com\",\n",
      "  \"username\": \"Ganesh@22\",\n",
      "  \"age\": 23\n",
      "}\n"
     ]
    }
   ],
   "source": [
    "# json.dumps() this method serializes the python datatype in json format\n",
    "\n",
    "data = {\n",
    "    \"name\":'Ganesh Deshmukh',\n",
    "    \"email\":\"ganesh.onweb@gmail.com\",\n",
    "    \"username\":\"Ganesh@22\",\n",
    "    \"age\":23\n",
    "}\n",
    "\n",
    "serialized_data = json.dumps(data, indent=2)\n",
    "\n",
    "with open('a.txt', 'w+') as file:\n",
    "    file.write(serialized_data)\n",
    "\n",
    "print(serialized_data)\n",
    "\n",
    "# a = open('a.txt', 'w+')\n",
    "\n",
    "# serialized_data = json.dump(data, a, indent=5)\n",
    "\n",
    "# a.close()"
   ]
  },
  {
   "cell_type": "markdown",
   "metadata": {},
   "source": [
    "### json.loads()"
   ]
  },
  {
   "cell_type": "code",
   "execution_count": 16,
   "metadata": {},
   "outputs": [
    {
     "name": "stdout",
     "output_type": "stream",
     "text": [
      "{'name': 'Ganesh Deshmukh', 'email': 'ganesh.onweb@gmail.com', 'username': 'Ganesh@22', 'age': 23}\n"
     ]
    }
   ],
   "source": [
    "# json.loads() function takes the serialized data and convert it into python data type\n",
    "\n",
    "parsed_data = json.loads(serialized_data)\n",
    "print(parsed_data)\n",
    "\n"
   ]
  },
  {
   "cell_type": "code",
   "execution_count": null,
   "metadata": {},
   "outputs": [],
   "source": []
  }
 ],
 "metadata": {
  "kernelspec": {
   "display_name": "Python 3",
   "language": "python",
   "name": "python3"
  },
  "language_info": {
   "codemirror_mode": {
    "name": "ipython",
    "version": 3
   },
   "file_extension": ".py",
   "mimetype": "text/x-python",
   "name": "python",
   "nbconvert_exporter": "python",
   "pygments_lexer": "ipython3",
   "version": "3.12.0"
  }
 },
 "nbformat": 4,
 "nbformat_minor": 2
}
