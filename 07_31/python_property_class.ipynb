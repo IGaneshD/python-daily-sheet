{
 "cells": [
  {
   "cell_type": "markdown",
   "metadata": {},
   "source": [
    "# The Property Class\n",
    "\n",
    "syntax:\n",
    "` propertyName = property(fget, fset, fdel, doc)`"
   ]
  },
  {
   "cell_type": "code",
   "execution_count": 40,
   "metadata": {},
   "outputs": [],
   "source": [
    "# property class \n",
    "\n",
    "\n",
    "from typing import Any\n",
    "\n",
    "\n",
    "class User:\n",
    "    \n",
    "    \"\"\"This is user class\"\"\"\n",
    "    \n",
    "    def __init__(self, username=None, password=None):\n",
    "        self._user =  username # here assining value invokes set_username method\n",
    "    \n",
    "    def get_username(self):\n",
    "        return self._username\n",
    "    \n",
    "    \n",
    "    def set_username(self, username=None):\n",
    "        self._username = username\n",
    "        \n",
    "    def delete_user(self):\n",
    "        print(\"user deleted\")\n",
    "        del self._username\n",
    "        \n",
    "    def doc(self):\n",
    "        return \"\"\"This is user class\"\"\"\n",
    "    \n",
    "    # here _user is property variable\n",
    "    _user = property(get_username, set_username, delete_user, doc = \"This is User Class\")\n",
    "    \n",
    "    def __setattr__(self, name: str, value: Any) -> None:\n",
    "        super().__setattr__(name, value)\n",
    "    \n",
    "\n",
    "user = User()"
   ]
  },
  {
   "cell_type": "code",
   "execution_count": 41,
   "metadata": {},
   "outputs": [
    {
     "name": "stdout",
     "output_type": "stream",
     "text": [
      "None\n"
     ]
    }
   ],
   "source": [
    "# reading username\n",
    "print(user._user)"
   ]
  },
  {
   "cell_type": "code",
   "execution_count": 38,
   "metadata": {},
   "outputs": [
    {
     "name": "stdout",
     "output_type": "stream",
     "text": [
      "user deleted\n",
      "username has been deleted\n"
     ]
    }
   ],
   "source": [
    "# deleting _username attribute\n",
    "del user._user\n",
    "\n",
    "try:\n",
    "    print(user._user)\n",
    "except AttributeError:\n",
    "    print('username has been deleted')"
   ]
  },
  {
   "cell_type": "code",
   "execution_count": 44,
   "metadata": {},
   "outputs": [
    {
     "name": "stdout",
     "output_type": "stream",
     "text": [
      "This is User Class\n"
     ]
    }
   ],
   "source": [
    "# printing doc using Class \n",
    "print(User._user.__doc__)"
   ]
  },
  {
   "cell_type": "code",
   "execution_count": 45,
   "metadata": {},
   "outputs": [
    {
     "name": "stdout",
     "output_type": "stream",
     "text": [
      "This is user class\n"
     ]
    }
   ],
   "source": [
    "# reading doc using instance\n",
    "\n",
    "print(user.__class__.__doc__)"
   ]
  }
 ],
 "metadata": {
  "kernelspec": {
   "display_name": "Python 3",
   "language": "python",
   "name": "python3"
  },
  "language_info": {
   "codemirror_mode": {
    "name": "ipython",
    "version": 3
   },
   "file_extension": ".py",
   "mimetype": "text/x-python",
   "name": "python",
   "nbconvert_exporter": "python",
   "pygments_lexer": "ipython3",
   "version": "3.12.4"
  }
 },
 "nbformat": 4,
 "nbformat_minor": 2
}
