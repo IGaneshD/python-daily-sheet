{
 "cells": [
  {
   "cell_type": "markdown",
   "metadata": {},
   "source": [
    "<h1 style=\"color:yellow\">Getters and Setters</h1>"
   ]
  },
  {
   "cell_type": "markdown",
   "metadata": {},
   "source": [
    "## Class Without Getter and Setter"
   ]
  },
  {
   "cell_type": "code",
   "execution_count": 1,
   "metadata": {},
   "outputs": [
    {
     "name": "stdout",
     "output_type": "stream",
     "text": [
      "Ganesh\n"
     ]
    }
   ],
   "source": [
    "# User Class\n",
    "\n",
    "class User:\n",
    "    \n",
    "    def __init__(self, username=None, password=None):\n",
    "        self.username = username\n",
    "        self.password = password\n",
    "        \n",
    "\n",
    "\n",
    "user1 = User()\n",
    "\n",
    "# setting username directly\n",
    "user1.username = 'Ganesh'\n",
    "\n",
    "# reading username directly\n",
    "print(user1.username)"
   ]
  },
  {
   "cell_type": "markdown",
   "metadata": {},
   "source": [
    "## Using Getter and Setter Methods"
   ]
  },
  {
   "cell_type": "code",
   "execution_count": 5,
   "metadata": {},
   "outputs": [
    {
     "name": "stdout",
     "output_type": "stream",
     "text": [
      "Ganesh\n",
      "Hi this is Ganesh\n"
     ]
    }
   ],
   "source": [
    "class User:\n",
    "    \n",
    "    def __init__(self, username=None, password=None):\n",
    "        self.set_username(username)\n",
    "        self.set_password(password)\n",
    "        \n",
    "    \n",
    "    # getter method for username\n",
    "    def get_username(self):\n",
    "        return self.username\n",
    "    \n",
    "    # setter method\n",
    "    def set_username(self, username):\n",
    "        self.username = username\n",
    "        \n",
    "    \n",
    "    # getter method for password\n",
    "    def get_password(self):\n",
    "        return self.password\n",
    "    \n",
    "    # setter method for password\n",
    "    def set_password(self, password):\n",
    "        self.password = password\n",
    "        \n",
    "\n",
    "user3 = User(username='Ganesh')\n",
    "\n",
    "# getting username\n",
    "print(user3.get_username())\n",
    "\n",
    "# setting password\n",
    "user3.set_password('Hi this is Ganesh')\n",
    "\n",
    "# getting password\n",
    "print(user3.get_password())"
   ]
  }
 ],
 "metadata": {
  "kernelspec": {
   "display_name": "Python 3",
   "language": "python",
   "name": "python3"
  },
  "language_info": {
   "codemirror_mode": {
    "name": "ipython",
    "version": 3
   },
   "file_extension": ".py",
   "mimetype": "text/x-python",
   "name": "python",
   "nbconvert_exporter": "python",
   "pygments_lexer": "ipython3",
   "version": "3.12.4"
  }
 },
 "nbformat": 4,
 "nbformat_minor": 2
}
