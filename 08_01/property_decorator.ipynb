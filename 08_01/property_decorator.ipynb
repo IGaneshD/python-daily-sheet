{
 "cells": [
  {
   "cell_type": "markdown",
   "metadata": {},
   "source": [
    "# Property Decorator\n",
    "It is the Pythonic way to create properties\n",
    "\n",
    "syntax:\n",
    "\n",
    "```python\n",
    "\n",
    "class className:\n",
    "\n",
    "    @property # can work as getter\n",
    "    def propertyName():\n",
    "        pass\n",
    "\n",
    "    @propertyName.setter\n",
    "    def propertyName(self, *args, **kwargs):\n",
    "        pass\n",
    "\n",
    "    @propertyName.deletter\n",
    "    def propertyName(self):\n",
    "        pass\n",
    "\n",
    "```"
   ]
  },
  {
   "cell_type": "code",
   "execution_count": 1,
   "metadata": {},
   "outputs": [
    {
     "name": "stdout",
     "output_type": "stream",
     "text": [
      "Ganesh@79\n",
      "username updated\n",
      "Username after an Update--> IGaneshD79\n"
     ]
    }
   ],
   "source": [
    "# creating property decorator\n",
    "\n",
    "from typing import Any\n",
    "\n",
    "\n",
    "class User:\n",
    "    \n",
    "    def __init__(self, username=None, password=None):\n",
    "        self.username = username\n",
    "        self.password = password\n",
    "    \n",
    "    # property name is username\n",
    "    @property\n",
    "    def username(self):\n",
    "        \"\"\"Get the Username\"\"\"\n",
    "        return self.__username\n",
    "    \n",
    "    @username.setter\n",
    "    def username(self, value):\n",
    "        \"\"\"Set the Username\"\"\"\n",
    "        self.__username = value\n",
    "        \n",
    "    @username.deleter\n",
    "    def username(self):\n",
    "        del self.__username\n",
    "    \n",
    "    @property # property name is password\n",
    "    def password(self):\n",
    "        \"\"\"Get the Password\"\"\"\n",
    "        return self.__password\n",
    "    \n",
    "    @password.setter\n",
    "    def password(self, value):\n",
    "        \"\"\"Set the Password\"\"\"\n",
    "        self.__password = value\n",
    "        \n",
    "    \n",
    "user = User('Ganesh@79')\n",
    "\n",
    "# reading username\n",
    "print(user.username)\n",
    "\n",
    "# changing username\n",
    "try:\n",
    "    user.username = 'IGaneshD79'\n",
    "    print('username updated')\n",
    "except:\n",
    "    print('Something Went Wrong!')\n",
    "    \n",
    "print('Username after an Update-->', user.username)"
   ]
  },
  {
   "cell_type": "code",
   "execution_count": 2,
   "metadata": {},
   "outputs": [
    {
     "name": "stdout",
     "output_type": "stream",
     "text": [
      "Something went wrong!\n"
     ]
    }
   ],
   "source": [
    "# deleting an attribute using property\n",
    "\n",
    "del user.username\n",
    "\n",
    "try:\n",
    "    print(user.username)\n",
    "except:\n",
    "    print('Something went wrong!')"
   ]
  }
 ],
 "metadata": {
  "kernelspec": {
   "display_name": "Python 3",
   "language": "python",
   "name": "python3"
  },
  "language_info": {
   "codemirror_mode": {
    "name": "ipython",
    "version": 3
   },
   "file_extension": ".py",
   "mimetype": "text/x-python",
   "name": "python",
   "nbconvert_exporter": "python",
   "pygments_lexer": "ipython3",
   "version": "3.12.4"
  }
 },
 "nbformat": 4,
 "nbformat_minor": 2
}
