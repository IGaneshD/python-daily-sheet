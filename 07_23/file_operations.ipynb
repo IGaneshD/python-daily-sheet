{
 "cells": [
  {
   "cell_type": "markdown",
   "metadata": {},
   "source": [
    "# File Operations"
   ]
  },
  {
   "cell_type": "markdown",
   "metadata": {},
   "source": [
    "### Open File in Python\n",
    "\n",
    "\n",
    "way-1: ` f = open('file.extension', 'mode') ` ---> file need to close manually\n",
    "\n",
    "way-2: ` with open('file.extension', 'mode') as f:` ---> file will get closed automatically"
   ]
  },
  {
   "cell_type": "markdown",
   "metadata": {},
   "source": [
    "### File Operation Modes\n",
    "\n",
    "* r - read\n",
    "* w - write\n",
    "* a - append\n",
    "* x - xclusive write\n",
    "* b - binary\n",
    "* t - text mode - default\n",
    "* \\+ - both read and write "
   ]
  },
  {
   "cell_type": "markdown",
   "metadata": {},
   "source": [
    "### Open a Text File to read\n",
    "\n",
    "` with open('file.extension', 'r') as file:`"
   ]
  },
  {
   "cell_type": "code",
   "execution_count": 19,
   "metadata": {},
   "outputs": [
    {
     "name": "stdout",
     "output_type": "stream",
     "text": [
      "title, desgination\n",
      "\n",
      "python, developer\n",
      "\n",
      "['java, developer\\n', 'web, developer\\n', 'Frontend, developer\\n', 'Backend, developer']\n"
     ]
    }
   ],
   "source": [
    "# reading a csv file\n",
    "with open('demo.csv', 'r') as file:\n",
    "    # read entire Text\n",
    "    # context = file.read()\n",
    "    \n",
    "    # read line\n",
    "    # read single line at a time\n",
    "    line = file.readline() # reads current line\n",
    "    print(line)\n",
    "    print(file.readline())\n",
    "    \n",
    "    # # readlines\n",
    "    lines = file.readlines()\n",
    "    print(lines)"
   ]
  },
  {
   "cell_type": "markdown",
   "metadata": {},
   "source": [
    "### Writing into File\n",
    "\n",
    "```python\n",
    "\n",
    "with open('file.txt', 'w') as file:\n",
    "    file.write('Hi this is Programming')\n",
    "    file.write(\"This is Ganesh Deshmukh\")\n",
    "\n",
    "```\n",
    "> opening the file in write mode it will `overwrite` previous data   \n",
    "> Instead of this you can open the file in `append` mode\n",
    "\n",
    "`if File does not exists it will create new file`"
   ]
  },
  {
   "cell_type": "code",
   "execution_count": 38,
   "metadata": {},
   "outputs": [
    {
     "name": "stdout",
     "output_type": "stream",
     "text": [
      "data befor write operation {\"status\":\"True\"}{\"status\":\"True\"}\n",
      "data after write operation {\"status\":\"True\"}{\"status\":\"True\"}{\"status\":\"True\"}\n"
     ]
    }
   ],
   "source": [
    "# opening a file with data\n",
    "with open('demo.json', 'r+') as jsonFile:\n",
    "    print('data befor write operation', jsonFile.read())\n",
    "    jsonFile.write('{\"status\":\"True\"}')\n",
    "    jsonFile.seek(0)\n",
    "    print('data after write operation', jsonFile.read())"
   ]
  },
  {
   "cell_type": "markdown",
   "metadata": {},
   "source": [
    "### Exculsive write mode\n",
    "\n",
    "mode - `x`\n",
    "\n",
    "\n",
    "> it will create a file if not exits,   \n",
    "> if exists it will Raise `FileExistsError` "
   ]
  },
  {
   "cell_type": "code",
   "execution_count": 42,
   "metadata": {},
   "outputs": [
    {
     "name": "stdout",
     "output_type": "stream",
     "text": [
      "This is Exclusive File\n"
     ]
    }
   ],
   "source": [
    "with open('xclusive.txt', 'x+') as xclusiveFile:\n",
    "    xclusiveFile.write(\"This is Exclusive File\")\n",
    "    xclusiveFile.seek(0)\n",
    "    print(xclusiveFile.read())"
   ]
  },
  {
   "cell_type": "markdown",
   "metadata": {},
   "source": [
    "### "
   ]
  }
 ],
 "metadata": {
  "kernelspec": {
   "display_name": "Python 3",
   "language": "python",
   "name": "python3"
  },
  "language_info": {
   "codemirror_mode": {
    "name": "ipython",
    "version": 3
   },
   "file_extension": ".py",
   "mimetype": "text/x-python",
   "name": "python",
   "nbconvert_exporter": "python",
   "pygments_lexer": "ipython3",
   "version": "3.12.4"
  }
 },
 "nbformat": 4,
 "nbformat_minor": 2
}
