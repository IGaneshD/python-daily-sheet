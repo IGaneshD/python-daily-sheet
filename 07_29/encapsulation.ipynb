{
 "cells": [
  {
   "cell_type": "markdown",
   "metadata": {},
   "source": [
    "# Encapsulation\n",
    "\n",
    "Encapsulation is one of the core principles of object-oriented programming (OOP) and is crucial for managing complexity and protecting the integrity of data within objects. In Python, encapsulation is achieved using access control mechanisms to restrict how the internal state of an object is accessed and modified."
   ]
  },
  {
   "cell_type": "code",
   "execution_count": 3,
   "metadata": {},
   "outputs": [
    {
     "name": "stdout",
     "output_type": "stream",
     "text": [
      "Username befor updation --> None\n",
      "Username after update -->  Ganesh\n"
     ]
    }
   ],
   "source": [
    "## Accessor types in Python \n",
    "# Public\n",
    "# Protected\n",
    "# Private\n",
    "\n",
    "\n",
    "# accessing public variables of python class\n",
    "\n",
    "\n",
    "class User:\n",
    "    \n",
    "    def __init__(self, username=None, password=None):\n",
    "        # here username and password can be accessed directly using object.variable\n",
    "        self.username = username\n",
    "        self.password = password\n",
    "        \n",
    "        \n",
    "\n",
    "user1 = User()\n",
    "\n",
    "\n",
    "# reading value of useranme directly\n",
    "print ('Username befor updation -->',user1.username)\n",
    "\n",
    "\n",
    "# setting value of username directly\n",
    "user1.username = 'Ganesh'\n",
    "\n",
    "# print updated username\n",
    "print('Username after update --> ', user1.username)\n",
    "\n",
    "\n",
    "# public variables can be updated directly"
   ]
  },
  {
   "cell_type": "code",
   "execution_count": 7,
   "metadata": {},
   "outputs": [
    {
     "name": "stdout",
     "output_type": "stream",
     "text": [
      "None\n",
      "None\n",
      "Hit the red button\n"
     ]
    }
   ],
   "source": [
    "# protected variables\n",
    "\n",
    "\n",
    "class User:\n",
    "    \n",
    "    def __init__(self, username=None, password=None):\n",
    "        self._username = username\n",
    "        self._password = password\n",
    "        \n",
    "\n",
    "user2 = User()\n",
    "\n",
    "print(user2._username)\n",
    "print(user2._password)\n",
    "user2._password = \"Hit the red button\"\n",
    "\n",
    "print(user2._password)\n",
    "\n",
    "\n",
    "# you can directly manipulate the fields\n",
    "        "
   ]
  },
  {
   "cell_type": "code",
   "execution_count": 9,
   "metadata": {},
   "outputs": [
    {
     "name": "stdout",
     "output_type": "stream",
     "text": [
      "You are not otherised\n"
     ]
    }
   ],
   "source": [
    "# private variables\n",
    "\n",
    "class User:\n",
    "    \n",
    "    def __init__(self, username = None, password=None):\n",
    "        # here __username and __password are private variables\n",
    "        self.__username = username\n",
    "        self.__password = password\n",
    "        \n",
    "\n",
    "\n",
    "# creating object for User\n",
    "user3 = User()\n",
    "\n",
    "try:\n",
    "    print(user3.__username) # accessing a private variable directly causes an error\n",
    "except:\n",
    "    print(\"You are not otherised\")\n"
   ]
  },
  {
   "cell_type": "markdown",
   "metadata": {},
   "source": [
    "### Why accessing private variable causing an Error?\n",
    "\n",
    "### Answer - `Due to Name Mangling`"
   ]
  },
  {
   "cell_type": "markdown",
   "metadata": {},
   "source": [
    "### What is Name Mangling\n",
    "\n",
    "Name mangling in Python is a mechanism used to protect class-private and subclass-private attributes from being accidentally overridden by subclasses. This is done by transforming the name of a variable in a way that makes it harder to create accidental conflicts in subclasses.\n",
    "\n",
    "\n",
    "\n",
    "There can be same name for attributes in base and derived classes, then it can overwrite base class attribute.\n",
    "Name Mangling Helps to take care of this by adding Name of class before that attribute as follows:\n",
    "\n",
    "```python\n",
    "\n",
    "class User:\n",
    "\n",
    "    def __init__(self):\n",
    "        self.__attribute = None\n",
    "\n",
    "userObject = User()\n",
    "print(userOjbect._User__attribute)\n",
    "\n",
    "# here _User is added before name of private attribute\n",
    "# this is called as Name Mangling\n",
    "```\n",
    "\n",
    "#### <h4 style=\"color:red\">Note</h4>Actually it is not the hiding mechanism in real sense. We can read and update the attributes"
   ]
  },
  {
   "cell_type": "code",
   "execution_count": 22,
   "metadata": {},
   "outputs": [
    {
     "name": "stdout",
     "output_type": "stream",
     "text": [
      "None\n"
     ]
    }
   ],
   "source": [
    "print(user3._User__username)"
   ]
  },
  {
   "cell_type": "markdown",
   "metadata": {},
   "source": [
    "<h4 style=\"color:red\">Note</h4>\n",
    "We should use getter, setter methods to intract with attributes"
   ]
  }
 ],
 "metadata": {
  "kernelspec": {
   "display_name": "Python 3",
   "language": "python",
   "name": "python3"
  },
  "language_info": {
   "codemirror_mode": {
    "name": "ipython",
    "version": 3
   },
   "file_extension": ".py",
   "mimetype": "text/x-python",
   "name": "python",
   "nbconvert_exporter": "python",
   "pygments_lexer": "ipython3",
   "version": "3.12.4"
  }
 },
 "nbformat": 4,
 "nbformat_minor": 2
}
