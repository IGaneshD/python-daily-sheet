{
 "cells": [
  {
   "cell_type": "markdown",
   "metadata": {},
   "source": [
    "# Python Directory and Files Management"
   ]
  },
  {
   "cell_type": "markdown",
   "metadata": {},
   "source": [
    "## `OS` module\n",
    "\n",
    "Python has the `os` module that provides us with many useful methods to work with directories (and files as well)."
   ]
  },
  {
   "cell_type": "code",
   "execution_count": 2,
   "metadata": {},
   "outputs": [],
   "source": [
    "# import os module\n",
    "import os"
   ]
  },
  {
   "cell_type": "markdown",
   "metadata": {},
   "source": [
    "### Get current Working Directory\n",
    "\n",
    "`os.getcwd()`"
   ]
  },
  {
   "cell_type": "code",
   "execution_count": 2,
   "metadata": {},
   "outputs": [
    {
     "data": {
      "text/plain": [
       "'e:\\\\Ganesh Deshmukh\\\\Python\\\\daily sheet\\\\07_22'"
      ]
     },
     "execution_count": 2,
     "metadata": {},
     "output_type": "execute_result"
    }
   ],
   "source": [
    "cwd = os.getcwd()\n",
    "cwd"
   ]
  },
  {
   "cell_type": "markdown",
   "metadata": {},
   "source": [
    "### Change Directory\n",
    "`os.chdir('path')`\n",
    "\n",
    "* you can use both `\\` or `/` in path"
   ]
  },
  {
   "cell_type": "code",
   "execution_count": 3,
   "metadata": {},
   "outputs": [
    {
     "name": "stdout",
     "output_type": "stream",
     "text": [
      "e:\\\n",
      "e:\\Ganesh Deshmukh\\Python\\daily sheet\\07_22\n"
     ]
    }
   ],
   "source": [
    "os.chdir('e:\\\\')\n",
    "print(os.getcwd())\n",
    "\n",
    "os.chdir(cwd)\n",
    "print(os.getcwd())"
   ]
  },
  {
   "cell_type": "markdown",
   "metadata": {},
   "source": [
    "### List Directories and Files in Python\n",
    "\n",
    "`os.listdir()` - list all subdirectories in currrent working directory\n",
    "\n",
    "`os.listdir('path')` - list all directories present in path given"
   ]
  },
  {
   "cell_type": "code",
   "execution_count": 4,
   "metadata": {},
   "outputs": [
    {
     "name": "stdout",
     "output_type": "stream",
     "text": [
      "['fileHandling.ipynb', 'non-empty']\n",
      "['$RECYCLE.BIN', 'Ganesh Deshmukh', 'old docs', 'System Volume Information']\n"
     ]
    }
   ],
   "source": [
    "# list all subdirectories in current working directory\n",
    "print(os.listdir())\n",
    "\n",
    "# list all subdirectories present in given path \n",
    "print(os.listdir(\"e:\\\\\"))"
   ]
  },
  {
   "cell_type": "markdown",
   "metadata": {},
   "source": [
    "### Making New Directory\n",
    "\n",
    "`os.mkdir('directory name')`"
   ]
  },
  {
   "cell_type": "code",
   "execution_count": 5,
   "metadata": {},
   "outputs": [
    {
     "name": "stdout",
     "output_type": "stream",
     "text": [
      "['fileHandling.ipynb', 'new_dir', 'non-empty']\n"
     ]
    }
   ],
   "source": [
    "# Create New Directory\n",
    "os.mkdir('new_dir')\n",
    "\n",
    "print(os.listdir())"
   ]
  },
  {
   "cell_type": "markdown",
   "metadata": {},
   "source": [
    "### Rename Directory or File\n",
    "\n",
    "`os.rename('old name', 'new name')`"
   ]
  },
  {
   "cell_type": "code",
   "execution_count": 7,
   "metadata": {},
   "outputs": [
    {
     "name": "stdout",
     "output_type": "stream",
     "text": [
      "e:\\Ganesh Deshmukh\\Python\\daily sheet\\07_22\n"
     ]
    }
   ],
   "source": [
    "# renaming new_dir \n",
    "# os.rename('new_dir', 'created_dir')\n",
    "print(os.getcwd())\n",
    "os.rename('fileHandling.ipynb', 'fileHandling2.ipynb')"
   ]
  },
  {
   "cell_type": "markdown",
   "metadata": {},
   "source": [
    "### Remove directory of File \n",
    "\n",
    "`os.remove('filePath')`  - remove file\n",
    "\n",
    "`os.remdir('directory')` - remove empty directory\n",
    "\n",
    "`shutil.rmtree('directory')` - remove directory with content"
   ]
  },
  {
   "cell_type": "code",
   "execution_count": 8,
   "metadata": {},
   "outputs": [
    {
     "name": "stdout",
     "output_type": "stream",
     "text": [
      "['fileHandling.ipynb', 'new_dir', 'non-empty']\n",
      "['fileHandling.ipynb', 'non-empty']\n"
     ]
    }
   ],
   "source": [
    "# remove file \n",
    "os.remove('fileHandling2.ipynb')\n",
    "print(os.listdir())\n",
    "\n",
    "# remove empty directory 'created_dir'\n",
    "os.rmdir('new_dir')\n",
    "print(os.listdir())"
   ]
  },
  {
   "cell_type": "code",
   "execution_count": 12,
   "metadata": {},
   "outputs": [
    {
     "name": "stdout",
     "output_type": "stream",
     "text": [
      "e:\\Ganesh Deshmukh\\Python\\daily sheet\\07_22\\non-empty\n"
     ]
    }
   ],
   "source": [
    "# create directory and files\n",
    "os.mkdir('non-empty')\n",
    "\n",
    "files = [\"hi.txt\", \"hello.txt\", \"dear.txt\"]\n",
    "\n",
    "path = os.path.abspath(\"non-empty\")\n",
    "print(path)"
   ]
  },
  {
   "cell_type": "code",
   "execution_count": 13,
   "metadata": {},
   "outputs": [
    {
     "name": "stdout",
     "output_type": "stream",
     "text": [
      "['dear.txt', 'hello.txt', 'hi.txt']\n"
     ]
    }
   ],
   "source": [
    "# creating files in non-empty folder\n",
    "\n",
    "for file in files:\n",
    "    f = open(os.path.join(path, file), \"w\")\n",
    "    f.close()\n",
    "    \n",
    "print(os.listdir(path))"
   ]
  },
  {
   "cell_type": "code",
   "execution_count": 9,
   "metadata": {},
   "outputs": [
    {
     "name": "stdout",
     "output_type": "stream",
     "text": [
      "['fileHandling.ipynb']\n"
     ]
    }
   ],
   "source": [
    "# remove non-empty directory \n",
    "# import shutil --> performs high level file operations\n",
    "import shutil\n",
    "\n",
    "shutil.rmtree('non-empty')\n",
    "print(os.listdir())"
   ]
  },
  {
   "cell_type": "markdown",
   "metadata": {},
   "source": [
    "### Get full path of file\n",
    "\n",
    "`os.path.abspath('file or directory')`"
   ]
  },
  {
   "cell_type": "code",
   "execution_count": 38,
   "metadata": {},
   "outputs": [
    {
     "name": "stdout",
     "output_type": "stream",
     "text": [
      "E:\\Ganesh Deshmukh\\Python\\daily sheet\n"
     ]
    }
   ],
   "source": [
    "# get absolute path of this file\n",
    "print(os.path.abspath('.'))"
   ]
  }
 ],
 "metadata": {
  "kernelspec": {
   "display_name": "Python 3",
   "language": "python",
   "name": "python3"
  },
  "language_info": {
   "codemirror_mode": {
    "name": "ipython",
    "version": 3
   },
   "file_extension": ".py",
   "mimetype": "text/x-python",
   "name": "python",
   "nbconvert_exporter": "python",
   "pygments_lexer": "ipython3",
   "version": "3.12.4"
  }
 },
 "nbformat": 4,
 "nbformat_minor": 2
}
