{
 "cells": [
  {
   "cell_type": "code",
   "execution_count": 1,
   "metadata": {},
   "outputs": [
    {
     "name": "stdout",
     "output_type": "stream",
     "text": [
      "F\n"
     ]
    }
   ],
   "source": [
    "match marks:\n",
    "    case marks if marks>=90:\n",
    "        print(\"A\")\n",
    "    case marks if marks>=70:\n",
    "        print(\"B\")\n",
    "    case marks if marks>=50:\n",
    "        print(\"C\")\n",
    "    case marks if marks==40:\n",
    "        print(\"D\")\n",
    "    case marks if marks<40:\n",
    "        print(\"F\")\n"
   ]
  },
  {
   "cell_type": "code",
   "execution_count": 3,
   "metadata": {},
   "outputs": [
    {
     "name": "stdout",
     "output_type": "stream",
     "text": [
      "Accepted\n"
     ]
    }
   ],
   "source": [
    "def validate(start, end):\n",
    "    def wrapper(function):\n",
    "        def inner():\n",
    "            value = function()\n",
    "            if value not in range(start, end):\n",
    "                print(\"Input Should be between {0}-{1}\".format(start, end+1))\n",
    "            else:\n",
    "                print(\"Accepted\")\n",
    "        return inner\n",
    "    return wrapper\n",
    "\n",
    "@validate(0, 100)\n",
    "def AddMarks():\n",
    "    marks = int(input(\"Enter Marks\"))\n",
    "    return marks\n",
    "\n",
    "\n",
    "AddMarks()\n"
   ]
  }
 ],
 "metadata": {
  "kernelspec": {
   "display_name": "Python 3",
   "language": "python",
   "name": "python3"
  },
  "language_info": {
   "codemirror_mode": {
    "name": "ipython",
    "version": 3
   },
   "file_extension": ".py",
   "mimetype": "text/x-python",
   "name": "python",
   "nbconvert_exporter": "python",
   "pygments_lexer": "ipython3",
   "version": "3.12.4"
  }
 },
 "nbformat": 4,
 "nbformat_minor": 2
}
