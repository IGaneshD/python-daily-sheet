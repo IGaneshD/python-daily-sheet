{
 "cells": [
  {
   "cell_type": "markdown",
   "metadata": {},
   "source": [
    "# Abstraction in Python\n",
    "\n",
    "Abstraction is used to hide the internal functionality of the function from the users. The users only interact with the basic implementation of the function, but inner working is hidden. User is familiar with that \"what function does\" but they don't know \"how it does.\"\n",
    "\n",
    "\n",
    "\n",
    "\n",
    "In simple words, we all use the smartphone and very much familiar with its functions such as camera, voice-recorder, call-dialing, etc., but we don't know how these operations are happening in the background. Let's take another example - When we use the TV remote to increase the volume. We don't know how pressing a key increases the volume of the TV. We only know to press the \"+\" button to increase the volume."
   ]
  },
  {
   "cell_type": "markdown",
   "metadata": {},
   "source": [
    "## Abstraction classes in Python\n",
    "In Python, abstraction can be achieved by using abstract classes and interfaces.\n",
    "\n",
    "A class that consists of one or more abstract method is called the abstract class. Abstract methods do not contain their implementation. Abstract class can be inherited by the subclass and abstract method gets its definition in the subclass. Abstraction classes are meant to be the blueprint of the other class. An abstract class can be useful when we are designing large functions. An abstract class is also helpful to provide the standard interface for different implementations of components. Python provides the abc module to use the abstraction in the Python program. Let's see the following syntax.\n",
    "\n",
    "\n",
    "```python\n",
    "from abc import ABC  \n",
    "class ClassName(ABC):\n",
    "```"
   ]
  },
  {
   "cell_type": "code",
   "execution_count": 9,
   "metadata": {},
   "outputs": [
    {
     "name": "stdout",
     "output_type": "stream",
     "text": [
      "Triangle has 3 sides\n"
     ]
    }
   ],
   "source": [
    "# Example \n",
    "\n",
    "from abc import ABC, abstractmethod\n",
    "\n",
    "class Polygon(ABC):\n",
    "    \n",
    "    @abstractmethod\n",
    "    def sides(self):\n",
    "        pass\n",
    "    \n",
    "\n",
    "\n",
    "class Triangle(Polygon):\n",
    "    \n",
    "    def sides(self):\n",
    "        print('Triangle has 3 sides')\n",
    "\n",
    "\n",
    "class Square(Polygon):\n",
    "    \n",
    "    def side(self):\n",
    "        print('Square has 4 sides')\n",
    "        \n",
    "\n",
    "# polygon = Polygon() # this will give an error\n",
    "# TypeError: Can't instantiate abstract class Polygon without an implementation for abstract method 'sides'\n",
    "\n",
    "\n",
    "\n",
    "triangle1 = Triangle()\n",
    "triangle1.sides()\n"
   ]
  }
 ],
 "metadata": {
  "kernelspec": {
   "display_name": "Python 3",
   "language": "python",
   "name": "python3"
  },
  "language_info": {
   "codemirror_mode": {
    "name": "ipython",
    "version": 3
   },
   "file_extension": ".py",
   "mimetype": "text/x-python",
   "name": "python",
   "nbconvert_exporter": "python",
   "pygments_lexer": "ipython3",
   "version": "3.12.4"
  }
 },
 "nbformat": 4,
 "nbformat_minor": 2
}
