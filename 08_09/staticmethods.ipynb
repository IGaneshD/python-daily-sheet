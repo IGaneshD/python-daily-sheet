{
 "cells": [
  {
   "cell_type": "markdown",
   "metadata": {},
   "source": [
    "## Static and Class Methods"
   ]
  },
  {
   "cell_type": "code",
   "execution_count": 30,
   "metadata": {},
   "outputs": [
    {
     "name": "stdout",
     "output_type": "stream",
     "text": [
      "Setting Username...\n"
     ]
    },
    {
     "ename": "AttributeError",
     "evalue": "'NoneType' object has no attribute 'lower'",
     "output_type": "error",
     "traceback": [
      "\u001b[1;31m---------------------------------------------------------------------------\u001b[0m",
      "\u001b[1;31mAttributeError\u001b[0m                            Traceback (most recent call last)",
      "Cell \u001b[1;32mIn[30], line 34\u001b[0m\n\u001b[0;32m     29\u001b[0m     \u001b[38;5;129m@firstname\u001b[39m\u001b[38;5;241m.\u001b[39msetter\n\u001b[0;32m     30\u001b[0m     \u001b[38;5;28;01mdef\u001b[39;00m \u001b[38;5;21mfirstname\u001b[39m(\u001b[38;5;28mself\u001b[39m, value):\n\u001b[0;32m     31\u001b[0m         \u001b[38;5;28mself\u001b[39m\u001b[38;5;241m.\u001b[39mfirst_name \u001b[38;5;241m=\u001b[39m \u001b[38;5;28mself\u001b[39m\u001b[38;5;241m.\u001b[39mmake_lower(value)\n\u001b[1;32m---> 34\u001b[0m obj \u001b[38;5;241m=\u001b[39m \u001b[43mUser\u001b[49m\u001b[43m(\u001b[49m\u001b[43m)\u001b[49m\n\u001b[0;32m     35\u001b[0m \u001b[38;5;28mprint\u001b[39m(obj\u001b[38;5;241m.\u001b[39musername)\n\u001b[0;32m     36\u001b[0m obj\u001b[38;5;241m.\u001b[39musername \u001b[38;5;241m=\u001b[39m \u001b[38;5;124m\"\u001b[39m\u001b[38;5;124mGanesh@79\u001b[39m\u001b[38;5;124m\"\u001b[39m\n",
      "Cell \u001b[1;32mIn[30], line 12\u001b[0m, in \u001b[0;36mUser.__init__\u001b[1;34m(self)\u001b[0m\n\u001b[0;32m     11\u001b[0m \u001b[38;5;28;01mdef\u001b[39;00m \u001b[38;5;21m__init__\u001b[39m(\u001b[38;5;28mself\u001b[39m):\n\u001b[1;32m---> 12\u001b[0m     \u001b[38;5;28;43mself\u001b[39;49m\u001b[38;5;241;43m.\u001b[39;49m\u001b[43musername\u001b[49m \u001b[38;5;241m=\u001b[39m \u001b[38;5;28;01mNone\u001b[39;00m \n\u001b[0;32m     13\u001b[0m     \u001b[38;5;28mself\u001b[39m\u001b[38;5;241m.\u001b[39mfirst_name \u001b[38;5;241m=\u001b[39m \u001b[38;5;28;01mNone\u001b[39;00m\n",
      "Cell \u001b[1;32mIn[30], line 23\u001b[0m, in \u001b[0;36mUser.username\u001b[1;34m(self, value)\u001b[0m\n\u001b[0;32m     20\u001b[0m \u001b[38;5;129m@username\u001b[39m\u001b[38;5;241m.\u001b[39msetter\n\u001b[0;32m     21\u001b[0m \u001b[38;5;28;01mdef\u001b[39;00m \u001b[38;5;21musername\u001b[39m(\u001b[38;5;28mself\u001b[39m, value):\n\u001b[0;32m     22\u001b[0m     \u001b[38;5;28mprint\u001b[39m(\u001b[38;5;124m\"\u001b[39m\u001b[38;5;124mSetting Username...\u001b[39m\u001b[38;5;124m\"\u001b[39m)\n\u001b[1;32m---> 23\u001b[0m     \u001b[38;5;28mself\u001b[39m\u001b[38;5;241m.\u001b[39musername \u001b[38;5;241m=\u001b[39m \u001b[38;5;28;43mself\u001b[39;49m\u001b[38;5;241;43m.\u001b[39;49m\u001b[43mmake_lower\u001b[49m\u001b[43m(\u001b[49m\u001b[43mvalue\u001b[49m\u001b[43m)\u001b[49m\n",
      "Cell \u001b[1;32mIn[30], line 9\u001b[0m, in \u001b[0;36mUser.make_lower\u001b[1;34m(data)\u001b[0m\n\u001b[0;32m      7\u001b[0m \u001b[38;5;129m@staticmethod\u001b[39m\n\u001b[0;32m      8\u001b[0m \u001b[38;5;28;01mdef\u001b[39;00m \u001b[38;5;21mmake_lower\u001b[39m(data:Union[\u001b[38;5;28mstr\u001b[39m] ) \u001b[38;5;241m-\u001b[39m\u001b[38;5;241m>\u001b[39m \u001b[38;5;28mstr\u001b[39m:\n\u001b[1;32m----> 9\u001b[0m     \u001b[38;5;28;01mreturn\u001b[39;00m \u001b[43mdata\u001b[49m\u001b[38;5;241;43m.\u001b[39;49m\u001b[43mlower\u001b[49m()\n",
      "\u001b[1;31mAttributeError\u001b[0m: 'NoneType' object has no attribute 'lower'"
     ]
    }
   ],
   "source": [
    "# static method\n",
    "\n",
    "from typing import Union\n",
    "\n",
    "class User:\n",
    "    \n",
    "    @staticmethod\n",
    "    def make_lower(data:Union[str] ) -> str:\n",
    "        return data.lower()\n",
    "    \n",
    "    def __init__(self):\n",
    "        self.username = None \n",
    "        self.first_name = None\n",
    "    \n",
    "    @property    \n",
    "    def username(self):\n",
    "        print(\"Getting UserName\")\n",
    "        return self.username\n",
    "    \n",
    "    @username.setter\n",
    "    def username(self, value):\n",
    "        print(\"Setting Username...\")\n",
    "        self.username = self.make_lower(value)\n",
    "        \n",
    "    @property\n",
    "    def firstname(self):\n",
    "        return self.first_name\n",
    "    \n",
    "    @firstname.setter\n",
    "    def firstname(self, value):\n",
    "        self.first_name = self.make_lower(value)\n",
    "    \n",
    "    \n",
    "obj = User()\n",
    "print(obj.username)\n",
    "obj.username = \"Ganesh@79\"\n",
    "print(obj.username)"
   ]
  },
  {
   "cell_type": "code",
   "execution_count": 24,
   "metadata": {},
   "outputs": [
    {
     "name": "stdout",
     "output_type": "stream",
     "text": [
      "Hi\n",
      "hello\n",
      "Age Before\n",
      "23\n",
      "Age After\n",
      "29\n"
     ]
    },
    {
     "data": {
      "text/plain": [
       "<bound method Derived.sayHi of <__main__.Derived object at 0x00000154F4DD3410>>"
      ]
     },
     "execution_count": 24,
     "metadata": {},
     "output_type": "execute_result"
    }
   ],
   "source": [
    "class __Base:\n",
    "    \n",
    "    def sayHi(self):\n",
    "        print(\"Hi\")\n",
    "        self.age = 23\n",
    "    \n",
    "    def print_age(self):\n",
    "        print(self.age)\n",
    "\n",
    "class Derived(__Base):\n",
    "    def sayHi(self):\n",
    "        super().sayHi()\n",
    "        print(\"hello\")\n",
    "        \n",
    "    def setAge(self, age):\n",
    "        self.age = age\n",
    "        \n",
    "        \n",
    "    \n",
    "\n",
    "obj = Derived()\n",
    "obj.sayHi()\n",
    "print(\"Age Before\")\n",
    "obj.print_age()\n",
    "print(\"Age After\")\n",
    "obj.setAge(29)\n",
    "obj.print_age()\n",
    "\n",
    "\n",
    "    \n"
   ]
  },
  {
   "cell_type": "code",
   "execution_count": 23,
   "metadata": {},
   "outputs": [
    {
     "name": "stdout",
     "output_type": "stream",
     "text": [
      "Get a named attribute from an object.\n",
      "\n",
      "getattr(x, 'y') is equivalent to x.y\n",
      "When a default argument is given, it is returned when the attribute doesn't\n",
      "exist; without it, an exception is raised in that case.\n"
     ]
    }
   ],
   "source": []
  }
 ],
 "metadata": {
  "kernelspec": {
   "display_name": "Python 3",
   "language": "python",
   "name": "python3"
  },
  "language_info": {
   "codemirror_mode": {
    "name": "ipython",
    "version": 3
   },
   "file_extension": ".py",
   "mimetype": "text/x-python",
   "name": "python",
   "nbconvert_exporter": "python",
   "pygments_lexer": "ipython3",
   "version": "3.12.4"
  }
 },
 "nbformat": 4,
 "nbformat_minor": 2
}
