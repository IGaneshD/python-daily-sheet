{
 "cells": [
  {
   "cell_type": "markdown",
   "metadata": {},
   "source": [
    "## Static and Class Methods"
   ]
  },
  {
   "cell_type": "code",
   "execution_count": 13,
   "metadata": {},
   "outputs": [
    {
     "name": "stdout",
     "output_type": "stream",
     "text": [
      "Setting Username...\n",
      "Getting UserName...\n",
      "ganesh@79\n",
      "ganesh\n"
     ]
    }
   ],
   "source": [
    "# static method\n",
    "from typing import Union\n",
    "class User:\n",
    "    \n",
    "    @staticmethod\n",
    "    def make_lower(data) -> Union[str, None]:\n",
    "        if isinstance(data, str):\n",
    "            return data.lower()\n",
    "        return None\n",
    "    \n",
    "    def __init__(self, username=None, firstname=None):\n",
    "        self.__username = username\n",
    "        self.__firstname = firstname\n",
    "    \n",
    "    @property    \n",
    "    def username(self):\n",
    "        print(\"Getting UserName...\")\n",
    "        return self.__username\n",
    "    \n",
    "    @username.setter\n",
    "    def username(self, value):\n",
    "        print(\"Setting Username...\")\n",
    "        self.__username = self.make_lower(value)\n",
    "        \n",
    "    @property\n",
    "    def firstname(self):\n",
    "        return self.__firstname\n",
    "    \n",
    "    @firstname.setter\n",
    "    def firstname(self, value):\n",
    "        self.__firstname = self.make_lower(value)\n",
    "    \n",
    "    \n",
    "obj = User()\n",
    "obj.username = \"Ganesh@79\"\n",
    "print(obj.username)\n",
    "obj.firstname = \"Ganesh\"\n",
    "print(obj.firstname)"
   ]
  }
 ],
 "metadata": {
  "kernelspec": {
   "display_name": "Python 3",
   "language": "python",
   "name": "python3"
  },
  "language_info": {
   "codemirror_mode": {
    "name": "ipython",
    "version": 3
   },
   "file_extension": ".py",
   "mimetype": "text/x-python",
   "name": "python",
   "nbconvert_exporter": "python",
   "pygments_lexer": "ipython3",
   "version": "3.12.4"
  }
 },
 "nbformat": 4,
 "nbformat_minor": 2
}
