{
 "cells": [
  {
   "cell_type": "markdown",
   "metadata": {},
   "source": [
    "# `__init__` method in inheritance"
   ]
  },
  {
   "cell_type": "markdown",
   "metadata": {},
   "source": [
    "When you inherit class then the constructor of super class is overwritten by sub class's constructor if present "
   ]
  },
  {
   "cell_type": "code",
   "execution_count": 7,
   "metadata": {},
   "outputs": [
    {
     "name": "stdout",
     "output_type": "stream",
     "text": [
      "qwerty@1234\n"
     ]
    }
   ],
   "source": [
    "# super class \n",
    "\n",
    "class User:\n",
    "    \n",
    "    def __init__(self, userName, passWord):\n",
    "        self.userName = userName\n",
    "        self.passWord = passWord\n",
    "        \n",
    "\n",
    "class Profile(User):\n",
    "    \n",
    "    def __init__(self, username, password, firstName, lastName):\n",
    "        super().__init__(username, password)\n",
    "        self.firstName = firstName\n",
    "        self.lastName = lastName\n",
    "        \n",
    "\n",
    "# user1 = User('John123', 'qwert@1234')\n",
    "\n",
    "profile1 = Profile('Ganesh@1234', 'qwerty@1234' ,'Ganesh', 'Deshmukh')\n",
    "print(profile1.passWord)"
   ]
  }
 ],
 "metadata": {
  "kernelspec": {
   "display_name": "Python 3",
   "language": "python",
   "name": "python3"
  },
  "language_info": {
   "codemirror_mode": {
    "name": "ipython",
    "version": 3
   },
   "file_extension": ".py",
   "mimetype": "text/x-python",
   "name": "python",
   "nbconvert_exporter": "python",
   "pygments_lexer": "ipython3",
   "version": "3.12.4"
  }
 },
 "nbformat": 4,
 "nbformat_minor": 2
}
