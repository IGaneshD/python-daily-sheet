{
 "cells": [
  {
   "cell_type": "markdown",
   "metadata": {},
   "source": [
    "# Method Resolution Order\n",
    "\n",
    "this gives how the class lookup take place in python\n",
    "\n",
    "this lookup follows left-depth-first approach\n",
    "\n",
    "syntax:\n",
    "```python\n",
    "\n",
    "className.__mro__ # returns tuple\n",
    "className.mro()   # returns list\n",
    "\n",
    "```"
   ]
  },
  {
   "cell_type": "code",
   "execution_count": 5,
   "metadata": {},
   "outputs": [
    {
     "name": "stdout",
     "output_type": "stream",
     "text": [
      "[<class '__main__.F'>, <class '__main__.O'>, <class '__main__.M'>, <class '__main__.A'>, <class '__main__.X'>, <class '__main__.N'>, <class '__main__.B'>, <class '__main__.Y'>, <class 'object'>]\n"
     ]
    }
   ],
   "source": [
    "class A:\n",
    "    pass \n",
    "\n",
    "class B:\n",
    "    pass\n",
    "\n",
    "class X:\n",
    "    pass\n",
    "\n",
    "class Y:\n",
    "    pass\n",
    "\n",
    "class M(A,B):\n",
    "    pass\n",
    "\n",
    "class N(B):\n",
    "    pass\n",
    "\n",
    "class O(M, X, N):\n",
    "    pass\n",
    "\n",
    "\n",
    "class F(O, Y):\n",
    "    pass\n",
    "\n",
    "\n",
    "print(F.mro())\n"
   ]
  }
 ],
 "metadata": {
  "kernelspec": {
   "display_name": "Python 3",
   "language": "python",
   "name": "python3"
  },
  "language_info": {
   "codemirror_mode": {
    "name": "ipython",
    "version": 3
   },
   "file_extension": ".py",
   "mimetype": "text/x-python",
   "name": "python",
   "nbconvert_exporter": "python",
   "pygments_lexer": "ipython3",
   "version": "3.12.4"
  }
 },
 "nbformat": 4,
 "nbformat_minor": 2
}
