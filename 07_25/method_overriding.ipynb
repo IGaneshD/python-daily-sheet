{
 "cells": [
  {
   "cell_type": "markdown",
   "metadata": {},
   "source": [
    "# Method overriding in inheritance"
   ]
  },
  {
   "cell_type": "markdown",
   "metadata": {},
   "source": [
    "When you inherit class then the constructor of super class is overridden by sub class's constructor if present \n",
    "\n",
    "same for other methods"
   ]
  },
  {
   "cell_type": "code",
   "execution_count": 5,
   "metadata": {},
   "outputs": [
    {
     "name": "stdout",
     "output_type": "stream",
     "text": [
      "qwerty@1234\n"
     ]
    }
   ],
   "source": [
    "# super class \n",
    "class User:\n",
    "    \n",
    "    def __init__(self, userName, passWord):\n",
    "        self.userName = userName\n",
    "        self.passWord = passWord\n",
    "        \n",
    "\n",
    "# Derived Class\n",
    "class Profile(User):\n",
    "    \n",
    "    def __init__(self, username, password, firstName, lastName):\n",
    "        super().__init__(username, password)\n",
    "        self.firstName = firstName\n",
    "        self.lastName = lastName\n",
    "        \n",
    "\n",
    "# user1 = User('John123', 'qwert@1234')\n",
    "\n",
    "profile1 = Profile('Ganesh@1234', 'qwerty@1234' ,'Ganesh', 'Deshmukh')\n",
    "print(profile1.passWord)"
   ]
  },
  {
   "cell_type": "code",
   "execution_count": 7,
   "metadata": {},
   "outputs": [
    {
     "name": "stdout",
     "output_type": "stream",
     "text": [
      "Every Animal Eats\n",
      "Human is omnivorous\n"
     ]
    }
   ],
   "source": [
    "# other method overriding \n",
    "\n",
    "\n",
    "class Animal:\n",
    "    \n",
    "    def __init__(self) -> None:\n",
    "            pass\n",
    "    \n",
    "    def eat(self):\n",
    "        print('Every Animal Eats')\n",
    "        \n",
    "\n",
    "class Human(Animal):\n",
    "    \n",
    "    def eat(self):\n",
    "        super().eat()\n",
    "        print(\"Human is omnivorous\")\n",
    "        \n",
    "\n",
    "# creating object\n",
    "human1 = Human()\n",
    "human1.eat()"
   ]
  },
  {
   "cell_type": "code",
   "execution_count": 20,
   "metadata": {},
   "outputs": [
    {
     "name": "stdout",
     "output_type": "stream",
     "text": [
      "This is Class A\n",
      "This is Class B\n",
      "This is Class C\n"
     ]
    }
   ],
   "source": [
    "# Multiple Inheritance\n",
    "\n",
    "class A:\n",
    "    def demo(self):\n",
    "        print('This is Class A')\n",
    "\n",
    "class B:\n",
    "    def demo(self):\n",
    "        print('This is Class B')\n",
    "\n",
    "class C(A,B):\n",
    "    def demo(self):\n",
    "        A.demo(self)\n",
    "        B.demo(self)\n",
    "        print('This is Class C')\n",
    "        \n",
    "object1 = C()\n",
    "object1.demo()"
   ]
  }
 ],
 "metadata": {
  "kernelspec": {
   "display_name": "Python 3",
   "language": "python",
   "name": "python3"
  },
  "language_info": {
   "codemirror_mode": {
    "name": "ipython",
    "version": 3
   },
   "file_extension": ".py",
   "mimetype": "text/x-python",
   "name": "python",
   "nbconvert_exporter": "python",
   "pygments_lexer": "ipython3",
   "version": "3.12.4"
  }
 },
 "nbformat": 4,
 "nbformat_minor": 2
}
