{
 "cells": [
  {
   "cell_type": "markdown",
   "metadata": {},
   "source": [
    "# Attributes \n",
    "\n",
    "Attribute means data or variable in Class\n",
    "\n",
    "class can have Attributes outside the methods"
   ]
  },
  {
   "cell_type": "code",
   "execution_count": 8,
   "metadata": {},
   "outputs": [
    {
     "name": "stdout",
     "output_type": "stream",
     "text": [
      "InActive\n",
      "Attribute Not Found, Creating! Ojbect...\n",
      "Ganesh\n"
     ]
    }
   ],
   "source": [
    "\n",
    "class User:\n",
    "    status = 'InActive' # class attributes can be accessed without creating object\n",
    "    \n",
    "    def __init__(self, username, password):\n",
    "        # to access the username and password you need to create an object\n",
    "        self.username = username\n",
    "        self.password = password\n",
    "\n",
    "\n",
    "print(User.status)\n",
    "\n",
    "# if you try to get the value of username without creating object, you get an error\n",
    "try:\n",
    "    print(User.username)\n",
    "except AttributeError:\n",
    "    print('Attribute Not Found, Creating! Ojbect...')\n",
    "    user1 = User('Ganesh', 'qwerty@12345')\n",
    "    print(user1.username)"
   ]
  },
  {
   "cell_type": "markdown",
   "metadata": {},
   "source": [
    "### changing value of attribute\n",
    "\n",
    "syntax:\n",
    "```python\n",
    "\n",
    "objectName.attribute = newValue\n",
    "\n",
    "```"
   ]
  },
  {
   "cell_type": "code",
   "execution_count": 11,
   "metadata": {},
   "outputs": [
    {
     "name": "stdout",
     "output_type": "stream",
     "text": [
      "Username Changed --> GaneshD\n"
     ]
    }
   ],
   "source": [
    "# change the username\n",
    "\n",
    "user1.username = 'GaneshD'\n",
    "print('Username Changed -->', user1.username)"
   ]
  }
 ],
 "metadata": {
  "kernelspec": {
   "display_name": "Python 3",
   "language": "python",
   "name": "python3"
  },
  "language_info": {
   "codemirror_mode": {
    "name": "ipython",
    "version": 3
   },
   "file_extension": ".py",
   "mimetype": "text/x-python",
   "name": "python",
   "nbconvert_exporter": "python",
   "pygments_lexer": "ipython3",
   "version": "3.12.4"
  }
 },
 "nbformat": 4,
 "nbformat_minor": 2
}
