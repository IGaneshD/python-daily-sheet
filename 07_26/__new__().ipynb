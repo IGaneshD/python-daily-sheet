{
 "cells": [
  {
   "cell_type": "markdown",
   "metadata": {},
   "source": [
    "# `__new__()` method in Python\n",
    "\n",
    "This method is constructor method which takes class and creates an object\n",
    "\n",
    "\n",
    "This method called before `__init__()` method\n",
    "\n",
    "\n",
    "a constructor is a method which creates the object itself.\n",
    "\n",
    "Uses:\n",
    "* Controls Object Creation\n",
    "* It allocates memory for object\n",
    "* provides more control\n",
    "* It is a static method\n",
    "* you can set no of objects can be created\n",
    "* Used Rarely\n",
    "\n",
    "\n",
    "Syntax:\n",
    "`__new__(cls, *args, **kwargs)`"
   ]
  },
  {
   "cell_type": "code",
   "execution_count": 6,
   "metadata": {},
   "outputs": [
    {
     "name": "stdout",
     "output_type": "stream",
     "text": [
      "creating an Object....\n",
      "Information used for creation of object--> ('Ganesh1', 'GD@1234') {}\n",
      "object Creation Successful\n",
      "Gathering Information....\n",
      "Your username is Ganesh1\n",
      "Your Password is GD@1234\n"
     ]
    }
   ],
   "source": [
    "import time\n",
    "\n",
    "class User(object):\n",
    "    \n",
    "    def __new__(cls, *args, **kwargs):\n",
    "        print('creating an Object....')\n",
    "        time.sleep(2)\n",
    "        print('Information used for creation of object-->', args, kwargs)\n",
    "        time.sleep(2)\n",
    "        obj = super().__new__(cls)\n",
    "        print('object Creation Successful')\n",
    "        time.sleep(2)\n",
    "        return obj\n",
    "    \n",
    "    def __init__(self, username=\"John\", password=\"qwerty@1234\"):\n",
    "        self.username = username\n",
    "        self.password = password\n",
    "        print('Gathering Information....')\n",
    "        time.sleep(2)\n",
    "        print('Your username is {}\\nYour Password is {}'.format(self.username, self.password))\n",
    "\n",
    "\n",
    "user1 = User('Ganesh1', 'GD@1234')\n",
    "        \n",
    "        "
   ]
  },
  {
   "cell_type": "markdown",
   "metadata": {},
   "source": [
    "### Example\n",
    "\n",
    "#### Allow only 5 Users to be created"
   ]
  },
  {
   "cell_type": "code",
   "execution_count": 13,
   "metadata": {},
   "outputs": [
    {
     "name": "stdout",
     "output_type": "stream",
     "text": [
      "creating an Object....\n",
      "Information used for creation of object--> ('Ganesh1', 'GD@1234') {}\n",
      "object Creation Successful\n",
      "\n",
      "creating an Object....\n",
      "Information used for creation of object--> ('Ganesh1', 'GD@1234') {}\n",
      "object Creation Successful\n",
      "\n",
      "creating an Object....\n",
      "Information used for creation of object--> ('Ganesh1', 'GD@1234') {}\n",
      "object Creation Successful\n",
      "\n",
      "creating an Object....\n",
      "Information used for creation of object--> ('Ganesh1', 'GD@1234') {}\n",
      "object Creation Successful\n",
      "\n",
      "creating an Object....\n",
      "Information used for creation of object--> ('Ganesh1', 'GD@1234') {}\n",
      "object Creation Successful\n",
      "\n",
      "User Cannot Be Created!\n"
     ]
    }
   ],
   "source": [
    "class User(object):\n",
    "    users = 0\n",
    "    \n",
    "    def __new__(cls, *args, **kwargs):\n",
    "        if cls.users<=4:\n",
    "            cls.users+=1\n",
    "            print('creating an Object....')\n",
    "            time.sleep(1)\n",
    "            print('Information used for creation of object-->', args, kwargs)\n",
    "            time.sleep(1)\n",
    "            obj = super().__new__(cls)\n",
    "            print('object Creation Successful\\n')\n",
    "            return obj\n",
    "        else:\n",
    "            print('User Cannot Be Created!')\n",
    "            return None\n",
    "        \n",
    "    \n",
    "    def __init__(self, username=\"John\", password=\"qwerty@1234\"):\n",
    "        self.username = username\n",
    "        self.password = password\n",
    "        time.sleep(2)\n",
    "\n",
    "\n",
    "user1 = User('Ganesh1', 'GD@1234')\n",
    "user2 = User('Ganesh1', 'GD@1234')\n",
    "user3 = User('Ganesh1', 'GD@1234')\n",
    "user4 = User('Ganesh1', 'GD@1234')\n",
    "user5 = User('Ganesh1', 'GD@1234')\n",
    "\n",
    "user6 = User('Ganesh', 'GD@12345')"
   ]
  }
 ],
 "metadata": {
  "kernelspec": {
   "display_name": "Python 3",
   "language": "python",
   "name": "python3"
  },
  "language_info": {
   "codemirror_mode": {
    "name": "ipython",
    "version": 3
   },
   "file_extension": ".py",
   "mimetype": "text/x-python",
   "name": "python",
   "nbconvert_exporter": "python",
   "pygments_lexer": "ipython3",
   "version": "3.12.4"
  }
 },
 "nbformat": 4,
 "nbformat_minor": 2
}
