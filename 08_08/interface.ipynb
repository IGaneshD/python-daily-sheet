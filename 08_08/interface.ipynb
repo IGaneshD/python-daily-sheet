{
 "cells": [
  {
   "cell_type": "code",
   "execution_count": 4,
   "id": "0d804e9f-5970-4ea1-8096-6e41c306b985",
   "metadata": {
    "editable": true,
    "slideshow": {
     "slide_type": ""
    },
    "tags": []
   },
   "outputs": [],
   "source": [
    "from abc import ABC, abstractmethod"
   ]
  },
  {
   "cell_type": "code",
   "execution_count": 10,
   "id": "08e0d796",
   "metadata": {},
   "outputs": [
    {
     "data": {
      "text/plain": [
       "{'username': 'Ganesh@79',\n",
       " 'first_name': 'Ganesh',\n",
       " 'last_name': 'Deshmukh',\n",
       " 'email': None,\n",
       " 'mobile': None}"
      ]
     },
     "execution_count": 10,
     "metadata": {},
     "output_type": "execute_result"
    }
   ],
   "source": [
    "class BaseUser(ABC):\n",
    "\n",
    "    @abstractmethod\n",
    "    def __init__(self):\n",
    "        self.username=None\n",
    "        self.first_name=None\n",
    "        self.last_name=None\n",
    "        self.email=None\n",
    "        self.mobile=None\n",
    "        \n",
    "\n",
    "\n",
    "class UserCreation(BaseUser):\n",
    "    \n",
    "    def __init__(self):\n",
    "        super().__init__()\n",
    "        \n",
    "    \n",
    "    def createuser(self, object):\n",
    "        for attribute in object:\n",
    "            if hasattr(self, attribute):\n",
    "                self.__setattr__(attribute, object[attribute])\n",
    "            else:\n",
    "                raise AttributeError(\"Invalid Attribute\")\n",
    "\n",
    "data = {\n",
    "    \"username\":\"Ganesh@79\",\n",
    "    \"first_name\":\"Ganesh\",\n",
    "    \"last_name\":\"Deshmukh\"\n",
    "}\n",
    "\n",
    "user1 = UserCreation()\n",
    "user1.createuser(data)\n",
    "\n",
    "user1.__dict__"
   ]
  }
 ],
 "metadata": {
  "kernelspec": {
   "display_name": "Python 3 (ipykernel)",
   "language": "python",
   "name": "python3"
  },
  "language_info": {
   "codemirror_mode": {
    "name": "ipython",
    "version": 3
   },
   "file_extension": ".py",
   "mimetype": "text/x-python",
   "name": "python",
   "nbconvert_exporter": "python",
   "pygments_lexer": "ipython3",
   "version": "3.12.4"
  }
 },
 "nbformat": 4,
 "nbformat_minor": 5
}
