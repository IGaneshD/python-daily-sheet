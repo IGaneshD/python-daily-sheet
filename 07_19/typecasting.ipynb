{
 "cells": [
  {
   "cell_type": "markdown",
   "metadata": {},
   "source": [
    "# TypeCasting in Python\n",
    "\n",
    "typecasting - conversion of datatypes from one to another"
   ]
  },
  {
   "cell_type": "markdown",
   "metadata": {},
   "source": [
    "Types of Conversion\n",
    "\n",
    "1. Implicit - automatically\n",
    "2. Explicit - need to do manually"
   ]
  },
  {
   "cell_type": "markdown",
   "metadata": {},
   "source": [
    "## Implicit"
   ]
  },
  {
   "cell_type": "code",
   "execution_count": 31,
   "metadata": {},
   "outputs": [
    {
     "name": "stdout",
     "output_type": "stream",
     "text": [
      "46.5\n",
      "<class 'float'>\n",
      "75.408\n",
      "<class 'float'>\n"
     ]
    }
   ],
   "source": [
    "a = 23\n",
    "b = 23.5\n",
    "# adding to float converts to float\n",
    "c = a + b\n",
    "print(c)\n",
    "print(type(c))\n",
    "\n",
    "# multiplication of number with float will converts to float\n",
    "d, e = 24, 3.142\n",
    "f = d * e\n",
    "print(f)\n",
    "print(type(f))"
   ]
  },
  {
   "cell_type": "markdown",
   "metadata": {},
   "source": [
    "## Explicit"
   ]
  },
  {
   "cell_type": "markdown",
   "metadata": {},
   "source": [
    "### Number TypeCasting\n",
    "\n",
    "int - float - complex\n",
    "float - int - complex\n",
    "\n",
    "not possible from complex to other\n",
    "\n",
    "bin, hex, oct, int"
   ]
  },
  {
   "cell_type": "code",
   "execution_count": 32,
   "metadata": {},
   "outputs": [
    {
     "name": "stdout",
     "output_type": "stream",
     "text": [
      "23 to float --> 23.0\n",
      "23 to Complex --> (23+0j)\n",
      "34.5 to int --> 34\n",
      "34.5 to Complex --> (34.5+0j)\n",
      "0b10111\n",
      "0x17\n",
      "0o27\n",
      "2\n"
     ]
    }
   ],
   "source": [
    "# Number\n",
    "a = 23\n",
    "float_a = float(a)\n",
    "comp_a = complex(a)\n",
    "\n",
    "print('{} to float --> {}'.format(a, float_a))\n",
    "print('{} to Complex --> {}'.format(a, comp_a))\n",
    "\n",
    "b       = 34.5\n",
    "int_b   = int(b)\n",
    "comp_b  = complex(b)\n",
    "\n",
    "print('{} to int --> {}'.format(b, int_b))\n",
    "print('{} to Complex --> {}'.format(b, comp_b))\n",
    "\n",
    "\n",
    "print(bin(a))\n",
    "print(hex(a))\n",
    "print(oct(a))\n",
    "\n",
    "# from bin to int\n",
    "print(int(\"0b0010\", 2))"
   ]
  },
  {
   "cell_type": "markdown",
   "metadata": {},
   "source": [
    "### from String,  to String"
   ]
  },
  {
   "cell_type": "code",
   "execution_count": 18,
   "metadata": {},
   "outputs": [
    {
     "name": "stdout",
     "output_type": "stream",
     "text": [
      "13\n",
      "13.0\n",
      "(13+0j)\n",
      "2024\n",
      "34.5\n",
      "(34+4j)\n"
     ]
    }
   ],
   "source": [
    "age = \"13\"\n",
    "\n",
    "# string to int\n",
    "print(int(age))\n",
    "# string to flaot\n",
    "print(float(age))\n",
    "# string to complex\n",
    "print(complex(age))\n",
    "\n",
    "\n",
    "# int to string\n",
    "print(str(2024))\n",
    "\n",
    "# float to string\n",
    "print(str(34.5))\n",
    "\n",
    "# complex to string\n",
    "print(str(34+4j))"
   ]
  }
 ],
 "metadata": {
  "kernelspec": {
   "display_name": "Python 3",
   "language": "python",
   "name": "python3"
  },
  "language_info": {
   "codemirror_mode": {
    "name": "ipython",
    "version": 3
   },
   "file_extension": ".py",
   "mimetype": "text/x-python",
   "name": "python",
   "nbconvert_exporter": "python",
   "pygments_lexer": "ipython3",
   "version": "3.12.4"
  }
 },
 "nbformat": 4,
 "nbformat_minor": 2
}
