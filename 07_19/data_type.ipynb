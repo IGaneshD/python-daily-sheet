{
 "cells": [
  {
   "cell_type": "markdown",
   "metadata": {},
   "source": [
    "## Data types in Python"
   ]
  },
  {
   "cell_type": "markdown",
   "metadata": {},
   "source": [
    "### List of DataTypes\n",
    "\n",
    "- Numbers\n",
    "    - Integer\n",
    "    - Float\n",
    "    - complex\n",
    "- String\n",
    "- Sequence\n",
    "    - List\n",
    "    - Tuple\n",
    "    - range\n",
    "- Mapping\n",
    "    - Dictionary\n",
    "- Set\n",
    "    - set\n",
    "    - frozenset\n",
    "- Binary\n",
    "    - byte\n",
    "    - bytearray\n",
    "    - memoriview\n",
    "- bool\n",
    "- None"
   ]
  },
  {
   "cell_type": "markdown",
   "metadata": {},
   "source": [
    "## Numbers"
   ]
  },
  {
   "cell_type": "code",
   "execution_count": 7,
   "metadata": {},
   "outputs": [
    {
     "name": "stdout",
     "output_type": "stream",
     "text": [
      "22\n",
      "2.34\n",
      "(3+3j)\n"
     ]
    }
   ],
   "source": [
    "\n",
    "# Integer\n",
    "a = 22\n",
    "print(a)\n",
    "\n",
    "# Float\n",
    "b = 2.34\n",
    "print(b)\n",
    "\n",
    "# Complex\n",
    "c = 3 + 3j\n",
    "print(c)\n"
   ]
  },
  {
   "cell_type": "markdown",
   "metadata": {},
   "source": [
    "## Strings"
   ]
  },
  {
   "cell_type": "code",
   "execution_count": 8,
   "metadata": {},
   "outputs": [],
   "source": [
    "# string datatypes stores single or collections of characters \n",
    "\n",
    "char    = \"a\"\n",
    "string  = \"This is a String\"\n",
    "mString = \"\"\" This is a \n",
    "        multiline string\"\"\"\n"
   ]
  },
  {
   "cell_type": "markdown",
   "metadata": {},
   "source": [
    "## Sequence"
   ]
  },
  {
   "cell_type": "markdown",
   "metadata": {},
   "source": [
    "1. LIST"
   ]
  },
  {
   "cell_type": "code",
   "execution_count": 15,
   "metadata": {},
   "outputs": [
    {
     "name": "stdout",
     "output_type": "stream",
     "text": [
      "<class 'list'>\n",
      "[1, 3]\n",
      "[1, 3, ['car', 'bunglow']]\n",
      "[1, 3, ['car', 'bunglow'], 44, 55]\n",
      "element not found\n",
      "1810885784000\n",
      "1810885826368\n",
      "list2 [55, ['car', 'garden'], 3, 1]\n",
      "list3 ['web', ['car', 'garden'], 3, 1]\n"
     ]
    }
   ],
   "source": [
    "# List \n",
    "# List is like an Array \n",
    "# List is mutable and ordered collection of objects\n",
    "# it can store\n",
    "# numbers, strings, list, set, dictionary, tuple and so on\n",
    "\n",
    "list1 = list() # creates empty list\n",
    "print(type(list1)) # prints the type of list1\n",
    "\n",
    "list2 = [x for x in range(1, 5, 2)]\n",
    "print(list2)\n",
    "\n",
    "# List Methods \n",
    "# append, insert, clear, count, index, pop, copy, extend, remove, reverse, sort\n",
    "\n",
    "# append -> appends at the end\n",
    "list2.append(23)\n",
    "list2\n",
    "\n",
    "# pop -> removes last element if no argument given\n",
    "list2.pop()\n",
    "list2\n",
    "\n",
    "# insert -> inserts the element at given index and element already present at that position moves to next\n",
    "list2.insert(2, [\"car\", \"bunglow\"])\n",
    "print(list2)\n",
    "\n",
    "# extend -> insert the iterable at the end of list\n",
    "list2.extend([44, 55])\n",
    "print(list2)\n",
    "\n",
    "# count -> counts number of occurences\n",
    "# clear -> clear entire list\n",
    "\n",
    "# index -> find the index of first occurence of given element\n",
    "# what if element not found -> raises Value Error\n",
    "try:\n",
    "    list2.index(29)\n",
    "except:\n",
    "    print(\"element not found\")\n",
    "    \n",
    "# remove -> it removes given element from the list\n",
    "# what if element not found -> raises Value Error\n",
    "try:\n",
    "    list2.remove(44)\n",
    "except:\n",
    "    print('item removed')\n",
    "\n",
    "# reverse -> it reverse entire list order\n",
    "list2.reverse()\n",
    "list2\n",
    "\n",
    "# copy -> it creates shallow copy of object -> different memory location for object but children still referes to the same memory location\n",
    "list3 = list2.copy()\n",
    "print(id(list3))\n",
    "print(id(list2))\n",
    "\n",
    "list2[1][1] = \"garden\"\n",
    "list3[0]  = \"web\" # changes made to immutable elements doesn't affect in another list, change only happen in that perticular list\n",
    "print(\"list2\",list2)\n",
    "print(\"list3\", list3)\n",
    "\n",
    "\n"
   ]
  },
  {
   "cell_type": "markdown",
   "metadata": {},
   "source": [
    "2. Tuple"
   ]
  },
  {
   "cell_type": "code",
   "execution_count": 20,
   "metadata": {},
   "outputs": [
    {
     "name": "stdout",
     "output_type": "stream",
     "text": [
      "('Ganesh', 'Raj', 'Virat')\n"
     ]
    },
    {
     "data": {
      "text/plain": [
       "0"
      ]
     },
     "execution_count": 20,
     "metadata": {},
     "output_type": "execute_result"
    }
   ],
   "source": [
    "# tuple\n",
    "# tuple is immutable datatype\n",
    "# used for data which doesn't change\n",
    "# does not support item assignment\n",
    "\n",
    "# create empty tuple\n",
    "t = tuple()\n",
    "\n",
    "# tuple with data\n",
    "t1 = ('Ganesh', 'Raj', 'Virat')\n",
    "print(t1)\n",
    "\n",
    "# methods can be used with tuple\n",
    "# count, index"
   ]
  },
  {
   "cell_type": "markdown",
   "metadata": {},
   "source": [
    "3. SET"
   ]
  },
  {
   "cell_type": "code",
   "execution_count": 51,
   "metadata": {},
   "outputs": [
    {
     "name": "stdout",
     "output_type": "stream",
     "text": [
      "<class 'set'>\n",
      "{23}\n",
      "{2, 23}\n",
      "{1, 2, 23}\n",
      "{24, 1, 2, 23}\n",
      "{32, 1, 2, 45, 22, 23, 24}\n",
      "{32, 1, 2, 22, 23, 24, 45}\n",
      "after difference Update {32, 1, 2, 45, 23, 24}\n",
      "{32, 1, 2, 45, 23, 24}\n",
      "False\n",
      "{45, 100, 23, 12, 13, 14, 47}\n",
      "after pop {35, 100, 23, 45, 47}\n",
      "Empty Set-->  set()\n"
     ]
    }
   ],
   "source": [
    "# set is a mutable datatype\n",
    "# set doesn't support indexing\n",
    "# set does not allowed duplicates\n",
    "# set can have set\n",
    "\n",
    "# creating empty set\n",
    "s = set()\n",
    "print(type(s))\n",
    "\n",
    "# adding elements in sets\n",
    "# add method only take immutable elements\n",
    "s.add(23)\n",
    "print(s)\n",
    "\n",
    "s.add(2)\n",
    "print(s)\n",
    "\n",
    "s.add(1)\n",
    "print(s)\n",
    "\n",
    "s.add(24)\n",
    "print(s)\n",
    "\n",
    "# Method available for sets\n",
    "# 'add', 'clear', 'copy', 'difference', 'difference_update', 'discard', 'intersection', 'intersection_update', 'isdisjoint', 'issubset', 'issuperset', 'pop', 'remove', 'symmetric_difference', 'symmetric_difference_update', 'union', 'update'\n",
    "\n",
    "s.update([22, 45, 32])\n",
    "print(s)\n",
    "\n",
    "# copy\n",
    "s2 = s.copy()\n",
    "print(s2)\n",
    "\n",
    "s2.clear()\n",
    "s2.add(22)\n",
    "\n",
    "# difference update -> Remove all elements of another set from this set.\n",
    "s.difference_update(s2)\n",
    "print(\"after difference Update\", s)\n",
    "\n",
    "# difference\n",
    "diffSet = s - s2\n",
    "print(diffSet)\n",
    "\n",
    "\n",
    "\n",
    "# isdisjoint\n",
    "tempS = {23,97,35,100, 45, 47}\n",
    "tempS2 = {12, 13, 14, 97, 35}\n",
    "print(tempS.isdisjoint(tempS2))\n",
    "\n",
    "# symmetric difference\n",
    "symDiffSet = tempS.symmetric_difference(tempS2)\n",
    "print(symDiffSet)\n",
    "\n",
    "# pop -> removes any element randomly if no argument given\n",
    "tempS.pop()\n",
    "print(\"after pop\" ,tempS)\n",
    "\n",
    "#clear entire set\n",
    "s.clear()\n",
    "print(\"Empty Set--> \", s)\n",
    "\n",
    "# can be traverse with loops\n",
    "\n"
   ]
  },
  {
   "cell_type": "markdown",
   "metadata": {},
   "source": [
    "4. dictionary"
   ]
  },
  {
   "cell_type": "code",
   "execution_count": 1,
   "metadata": {},
   "outputs": [
    {
     "name": "stdout",
     "output_type": "stream",
     "text": [
      "{'India': 'New Delhi'}\n",
      "{'India': 'New Delhi', 'USA': 'Washington DC'}\n",
      "dict_keys(['India', 'USA'])\n",
      "dict_items([('India', 'New Delhi'), ('USA', 'Washington DC')])\n",
      "Washington DC\n",
      "{'India': 'New Delhi', 'Thailand': 'Bangkok', 'UK': 'London'}\n",
      "None\n",
      "{'Python': 6, 'Program': 7}\n",
      "{'Python': 6, 'Program': 7}\n"
     ]
    }
   ],
   "source": [
    "# stores mapping elements\n",
    "# like key:value pair\n",
    "# acts like a real world dictionary\n",
    "# method can be used 'clear', 'copy', 'fromkeys', 'get', 'items', 'keys', 'pop', 'popitem', 'setdefault', 'update', 'values'\n",
    "\n",
    "# create a dictionary\n",
    "d = {} # way 2 -> d = dict()\n",
    "\n",
    "# add element in dictionary\n",
    "d['India'] = 'New Delhi'\n",
    "print(d)\n",
    "\n",
    "d['USA'] = \"Washington DC\"\n",
    "print(d)\n",
    "\n",
    "# how to get all keys\n",
    "keysfromDict = d.keys()\n",
    "print(keysfromDict)\n",
    "\n",
    "# how to get all items in list\n",
    "allItems = d.items()\n",
    "print(allItems)\n",
    "\n",
    "# get item from dictionary, if key not present then default is returned\n",
    "india = d.get('India', None)\n",
    "\n",
    "# remove key using pop\n",
    "print(d.pop('USA'))\n",
    "\n",
    "# update \n",
    "d.update({\"Thailand\":\"Bangkok\", \"UK\":\"London\"})\n",
    "print(d)\n",
    "\n",
    "# if key not found \n",
    "# raises the KeyError \n",
    "# add second parameter as default value to be returned if no key found\n",
    "print(d.pop('USA', None))\n",
    "\n",
    "# from list to dictionary\n",
    "l = [\"Python\", \"Program\"]\n",
    "# d = {\"Python\":6, \"Program\":7}\n",
    "d = {}\n",
    "for ele in l:\n",
    "    d[ele] = len(ele)\n",
    "print(d)\n",
    "\n",
    "# way 2\n",
    "d2 = {ele:len(ele) for ele in l}\n",
    "print(d2)\n"
   ]
  },
  {
   "cell_type": "markdown",
   "metadata": {},
   "source": [
    "## Bool"
   ]
  },
  {
   "cell_type": "code",
   "execution_count": 66,
   "metadata": {},
   "outputs": [
    {
     "name": "stdout",
     "output_type": "stream",
     "text": [
      "True\n",
      "False\n"
     ]
    }
   ],
   "source": [
    "# True or False\n",
    "\n",
    "print(3==3)\n",
    "print(4==2)"
   ]
  },
  {
   "cell_type": "markdown",
   "metadata": {},
   "source": [
    "## None"
   ]
  },
  {
   "cell_type": "code",
   "execution_count": 67,
   "metadata": {},
   "outputs": [
    {
     "name": "stdout",
     "output_type": "stream",
     "text": [
      "True\n"
     ]
    }
   ],
   "source": [
    "# None -> Nothing -> No Data\n",
    "a = None"
   ]
  }
 ],
 "metadata": {
  "kernelspec": {
   "display_name": "Python 3",
   "language": "python",
   "name": "python3"
  },
  "language_info": {
   "codemirror_mode": {
    "name": "ipython",
    "version": 3
   },
   "file_extension": ".py",
   "mimetype": "text/x-python",
   "name": "python",
   "nbconvert_exporter": "python",
   "pygments_lexer": "ipython3",
   "version": "3.12.4"
  }
 },
 "nbformat": 4,
 "nbformat_minor": 2
}
