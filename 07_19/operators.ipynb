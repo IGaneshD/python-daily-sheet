{
 "cells": [
  {
   "cell_type": "markdown",
   "metadata": {},
   "source": [
    "# Operators in Python\n",
    "Operators are used to perform operations on variables and values.\n",
    "\n",
    "Python divides the operators in the following groups:\n",
    "\n",
    "1. Arithmetic operators\n",
    "2. Assignment operators\n",
    "3. Comparison operators\n",
    "4. Logical operators\n",
    "5. Identity operators\n",
    "6. Membership operators\n",
    "7. Bitwise operators"
   ]
  },
  {
   "cell_type": "markdown",
   "metadata": {},
   "source": [
    "## Arithmetic Operators"
   ]
  },
  {
   "cell_type": "code",
   "execution_count": 3,
   "metadata": {},
   "outputs": [
    {
     "name": "stdout",
     "output_type": "stream",
     "text": [
      "addition 11\n",
      "Subtraction 4\n",
      "multiplication 30\n",
      "division 1.5\n",
      "floor division 1\n",
      "exponent 25\n",
      "3\n"
     ]
    }
   ],
   "source": [
    "# +, -, *, /, **, //, % \n",
    "# addition\n",
    "print(\"addition\", 5+6)\n",
    "# subtraction\n",
    "print(\"Subtraction\", 6-2)\n",
    "# multiplication\n",
    "print(\"multiplication\", 6*5)\n",
    "# division\n",
    "print(\"division\", 6/4)\n",
    "# floor division\n",
    "print(\"floor division\", 6//4)\n",
    "# exponent\n",
    "print(\"exponent\", 5**2)\n",
    "# modulus -> returns remainder\n",
    "print(23%5)\n"
   ]
  },
  {
   "cell_type": "markdown",
   "metadata": {},
   "source": [
    "## Assignment Operator"
   ]
  },
  {
   "cell_type": "code",
   "execution_count": 19,
   "metadata": {},
   "outputs": [
    {
     "name": "stdout",
     "output_type": "stream",
     "text": [
      "5\n",
      "15\n",
      "16\n",
      "0\n"
     ]
    }
   ],
   "source": [
    "# assignment operators\n",
    "# = , +=, -=, *=, /=, //=, %=, **=, &=, |=, :=, ^=, <<=, >>=\n",
    "\n",
    "# assingment\n",
    "a = 5\n",
    "\n",
    "# bitwise and\n",
    "a &= 5\n",
    "print(a)\n",
    "# bitwise or\n",
    "a |= 10\n",
    "print(a)\n",
    "# bitwise xor \n",
    "# 5 = 0101\n",
    "# 6 = 0110\n",
    "# --------\n",
    "# 3 = 0011\n",
    "\n",
    "# left shift\n",
    "a = 4\n",
    "a <<=2\n",
    "print(a)\n",
    "# a = 0100\n",
    "# 1'st shift -> 1000\n",
    "# 2'nd shift -> 10000\n",
    "# right shift\n",
    "a = 6\n",
    "a >>= 3\n",
    "# a = 0101\n",
    "# 1st shift -> 0010\n",
    "# 2nd shift -> 0001\n",
    "# 3rd shift -> 0000\n",
    "print(a)\n"
   ]
  },
  {
   "cell_type": "markdown",
   "metadata": {},
   "source": [
    "## Comparison\n",
    "used to compare variables or operands"
   ]
  },
  {
   "cell_type": "code",
   "execution_count": 10,
   "metadata": {},
   "outputs": [],
   "source": [
    "# Comparison Operators\n",
    "# ==, !=, >=, <=, <, >"
   ]
  },
  {
   "cell_type": "markdown",
   "metadata": {},
   "source": [
    "## Logical\n",
    "Logical operators are used to combine conditional statements"
   ]
  },
  {
   "cell_type": "code",
   "execution_count": 12,
   "metadata": {},
   "outputs": [
    {
     "name": "stdout",
     "output_type": "stream",
     "text": [
      "AND\n",
      "OR\n",
      "Not\n"
     ]
    }
   ],
   "source": [
    "# logical operators\n",
    "# and, not, or, !\n",
    "a = 12\n",
    "b = 13\n",
    "if a>10 and b<20:\n",
    "    print(\"AND\")\n",
    "if a>10 or b<20:\n",
    "    print(\"OR\")\n",
    "if not a<10:\n",
    "    print(\"Not\")\n",
    "    "
   ]
  },
  {
   "cell_type": "markdown",
   "metadata": {},
   "source": [
    "## Membership\n",
    "checks if element is present in the object"
   ]
  },
  {
   "cell_type": "code",
   "execution_count": 13,
   "metadata": {},
   "outputs": [
    {
     "name": "stdout",
     "output_type": "stream",
     "text": [
      "True\n"
     ]
    }
   ],
   "source": [
    "# Membership operator\n",
    "# in\n",
    "# not in\n",
    "a = [10, 11, 12, 13, 14, 15]\n",
    "print(11 in a)"
   ]
  },
  {
   "cell_type": "markdown",
   "metadata": {},
   "source": [
    "## Identity\n",
    "checks if two objects have same reference in memory"
   ]
  },
  {
   "cell_type": "code",
   "execution_count": 16,
   "metadata": {},
   "outputs": [
    {
     "name": "stdout",
     "output_type": "stream",
     "text": [
      "True\n",
      "False\n"
     ]
    }
   ],
   "source": [
    "# Identity Operator\n",
    "# is\n",
    "# is not\n",
    "a = b = 23\n",
    "print(a is b)\n",
    "a = [1, 2, 3, 4]\n",
    "b = [1, 2, 3, 4]\n",
    "print(a is b) # return False because both have different memory location address\n",
    "\n"
   ]
  }
 ],
 "metadata": {
  "kernelspec": {
   "display_name": "Python 3",
   "language": "python",
   "name": "python3"
  },
  "language_info": {
   "codemirror_mode": {
    "name": "ipython",
    "version": 3
   },
   "file_extension": ".py",
   "mimetype": "text/x-python",
   "name": "python",
   "nbconvert_exporter": "python",
   "pygments_lexer": "ipython3",
   "version": "3.12.4"
  }
 },
 "nbformat": 4,
 "nbformat_minor": 2
}
