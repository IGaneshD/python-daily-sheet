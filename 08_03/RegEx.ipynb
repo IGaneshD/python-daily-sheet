{
 "cells": [
  {
   "cell_type": "markdown",
   "metadata": {},
   "source": [
    "# RegEx\n",
    "\n",
    "A Regular Expression (RegEx) is a sequence of characters that defines a search pattern.\n",
    "\n",
    "For Example,\n",
    "\n",
    "```md\n",
    "^a...s$\n",
    "\n",
    "```\n",
    "\n",
    "The above code defines a RegEx pattern. The pattern is: any five letter string starting with `a` and ending with `s`."
   ]
  },
  {
   "cell_type": "markdown",
   "metadata": {},
   "source": [
    "## python module for Regular Expression\n",
    "\n",
    "python has `re` module to deal with regular expression"
   ]
  },
  {
   "cell_type": "code",
   "execution_count": 2,
   "metadata": {},
   "outputs": [],
   "source": [
    "# import re\n",
    "import re"
   ]
  },
  {
   "cell_type": "code",
   "execution_count": 6,
   "metadata": {},
   "outputs": [
    {
     "name": "stdout",
     "output_type": "stream",
     "text": [
      "matched\n"
     ]
    }
   ],
   "source": [
    "# checking if there is match for `^a...s$`\n",
    "\n",
    "pattern = '^a...s$'\n",
    "string = \"abbas\"\n",
    "\n",
    "result = re.match(pattern, string)\n",
    "\n",
    "if result:\n",
    "    print('matched')\n",
    "else:\n",
    "    print('No match')"
   ]
  },
  {
   "cell_type": "markdown",
   "metadata": {},
   "source": [
    "### Python re.match method\n",
    "\n",
    "re.match --> checks if there is match for given pattern \n",
    "\n",
    "* `if match found` --> returns `match` object\n",
    "* otherwise ---> returns `None`"
   ]
  },
  {
   "cell_type": "markdown",
   "metadata": {},
   "source": [
    "## Specify Pattern Using RegEx\n",
    "\n",
    "\n",
    "To create Regular Expression Patterns we use `MetaCharacters`"
   ]
  },
  {
   "cell_type": "markdown",
   "metadata": {},
   "source": [
    "### MetaCharacters\n",
    "Metacharacters are characters that are interpreted in a special way by a RegEx engine. \n",
    "\n",
    "Here's a list of metacharacters:\n",
    "\n",
    "**[] . ^ $ * + ? {} () \\ |**"
   ]
  },
  {
   "cell_type": "markdown",
   "metadata": {},
   "source": [
    "### 1. **`[]` - Square brackets**\n",
    "\n",
    "Square brackets specifies a set of characters you wish to match.\n",
    "\n",
    "| Expression | String | Matched       |\n",
    "|------------|--------|---------------|\n",
    "|            | hi     | No Match      |\n",
    "|[abcde]     | a man  | Matched('a')  |\n",
    "|            | boss   | Matched('b')  |\n",
    "|            | ABP New| No Match      |\n",
    "\n",
    "\n",
    "\n",
    "above expression check if either `a, b, c, d, or e` is present in the string if matches for any character in character set returns match object\n",
    "\n",
    "\n",
    "#### You can also specify a range of characters using - inside square brackets.\n",
    "* [abcdef] - [a-z]\n",
    "* [0123456789] - [0-9]\n",
    "* [A-Z]\n",
    "* [a-z]\n",
    "* [0-59] - same as [0123459]\n",
    "* [a-zA-Z]\n",
    "\n",
    "#### You can complement (invert) the character set by using caret ^ symbol at the start of a square-bracket.\n",
    "* [^a-z] - No small case alphabets\n",
    "* [^0-9] - No digits\n",
    "\n",
    "\n",
    "<h3 style=\"color:red; font-weight:800\">Note</h3>\n",
    "\n",
    "\n",
    "if you use square bracket pattern with re.match it will check whether the string starts with any of the character present within character set."
   ]
  },
  {
   "cell_type": "code",
   "execution_count": 30,
   "metadata": {},
   "outputs": [
    {
     "name": "stdout",
     "output_type": "stream",
     "text": [
      "hi\t No Match\n",
      "a man\t matched\n",
      "boss\t matched\n",
      "ABP New\t No Match\n"
     ]
    }
   ],
   "source": [
    "# check for above strings\n",
    "\n",
    "pattern = \"[abcde]\"\n",
    "strings = [\"hi\", \"a man\", \"boss\", \"ABP New\"]\n",
    "\n",
    "for string in strings:\n",
    "    print(f\"{string}\\t\", \"matched\" if re.match(pattern, string) else \"No Match\")"
   ]
  },
  {
   "cell_type": "markdown",
   "metadata": {},
   "source": [
    "### 2. **`.` Period**\n",
    "\n",
    "A period matches any <b style=\"color:yellow\">single character</b> (except newline '\\n').\n",
    "\n",
    "To match newline '\\n' we need to add DOTALL Flag.\n",
    "\n",
    "\n",
    "| Expression | String | Matched       |\n",
    "|------------|--------|---------------|\n",
    "|            | hi     | No Match      |\n",
    "|   `...`    | man    | Matched       |\n",
    "|            | boss   | Mached        |\n",
    "|            | ABP    | Matched       |\n",
    "\n",
    "\n",
    "in above pattern it will check for minimum three characters, if more characters are present still it will return matched\n",
    "\n",
    "\n",
    "**To check for only three Characters** we need to modify the pattern as `...$`"
   ]
  },
  {
   "cell_type": "code",
   "execution_count": 7,
   "metadata": {},
   "outputs": [
    {
     "name": "stdout",
     "output_type": "stream",
     "text": [
      "hi\t No Match\n",
      "man\t Matched\n",
      "boss\t No Match\n",
      "ABP\t Matched\n"
     ]
    }
   ],
   "source": [
    "strings = [\"hi\", \"man\", \"boss\", \"ABP\"]\n",
    "pattern = \"...\"\n",
    "\n",
    "for string in strings:\n",
    "    print(f'{string}\\t', \"Matched\" if re.match(pattern, string) else \"No Match\")"
   ]
  },
  {
   "cell_type": "code",
   "execution_count": 13,
   "metadata": {},
   "outputs": [
    {
     "name": "stdout",
     "output_type": "stream",
     "text": [
      "hi\t No Match\n",
      "man\t Matched\n",
      "boss\t No Match\n",
      "ABP\t Matched\n"
     ]
    }
   ],
   "source": [
    "# check for only three characters\n",
    "\n",
    "strings = [\"hi\", \"man\", \"boss\", \"ABP\"]\n",
    "pattern = \"...$\"\n",
    "\n",
    "for string in strings:\n",
    "    print(f'{string}\\t', \"Matched\" if re.match(pattern, string) else \"No Match\")"
   ]
  },
  {
   "cell_type": "markdown",
   "metadata": {},
   "source": [
    "### 3.**`^` Caret**\n",
    "\n",
    "The caret symbol <b style=\"color:yellow\">^</b> is used to check if a string <b style=\"color:yellow\">starts with a certain character or set of characters</b>\n",
    "\n",
    "| Expression | String | Matched       |\n",
    "|------------|--------|---------------|\n",
    "|            | ganesh | Matched       |\n",
    "| `^g.....`  | gunkesh| Matched       |\n",
    "|            | gaaaah | Matched       |\n",
    "|            | ganes  | No Match      |\n",
    "| `^ab`      | abc    | Matched       |\n",
    "|            | acb    | No Match      |"
   ]
  },
  {
   "cell_type": "code",
   "execution_count": 18,
   "metadata": {},
   "outputs": [
    {
     "name": "stdout",
     "output_type": "stream",
     "text": [
      "ganesh\t Matched\n",
      "gunkesh\t Matched\n",
      "gaaaah\t Matched\n",
      "ganes\t No Match\n",
      "\n",
      "\n",
      "ab\t Matched\n",
      "abc\t Matched\n",
      "acb\t No Match\n",
      "ababc\t Matched\n"
     ]
    }
   ],
   "source": [
    "strings = [\"ganesh\", \"gunkesh\", \"gaaaah\", \"ganes\" ]\n",
    "\n",
    "pattern = \"^g.....\"\n",
    "\n",
    "for string in strings:\n",
    "    print(f\"{string}\\t\", \"Matched\" if re.match(pattern, string) else \"No Match\")\n",
    "\n",
    "print(\"\\n\")\n",
    "    \n",
    "pattern = '^ab'\n",
    "strings = [\"ab\", \"abc\", \"acb\", \"ababc\"]\n",
    "for string in strings:\n",
    "    print(f\"{string}\\t\", \"Matched\" if re.match(pattern, string) else \"No Match\")\n"
   ]
  },
  {
   "cell_type": "markdown",
   "metadata": {},
   "source": [
    "### 4.**`$` Dollar**\n",
    "\n",
    "The `$` symbol used to check if string <b style=\"color:yellow\">ends with a certain character or set of characters </b>\n",
    "\n",
    "\n",
    "| Expression | String | Matched? |\n",
    "|------------|--------|----------|\n",
    "| `b$`       | b      | Matched  |\n",
    "|            | ab     | Matched  |\n",
    "|            | bba    | No Match |\n",
    "| `..ab$`    | fdab   | Matched  |\n",
    "|            | abfb   | No Match (endswith b but not preceded with a)|\n",
    "|            | aab    | No Match (endswith ab, but only three characters) |"
   ]
  },
  {
   "cell_type": "code",
   "execution_count": 13,
   "metadata": {},
   "outputs": [
    {
     "name": "stdout",
     "output_type": "stream",
     "text": [
      "b\t Matched\n",
      "ab\t Matched\n",
      "bba\t No Match\n"
     ]
    }
   ],
   "source": [
    "import re\n",
    "\n",
    "strings = [\"b\", \"ab\", \"bba\"]\n",
    "pattern = \"b$\"\n",
    "\n",
    "# compiled = re.compile(pattern)\n",
    "\n",
    "for string in strings:\n",
    "    print(f\"{string}\\t\", \"Matched\" if re.search(pattern,string) else \"No Match\")\n"
   ]
  },
  {
   "cell_type": "markdown",
   "metadata": {},
   "source": [
    "### 4.**`*` Star**\n",
    "\n",
    "The `*` symbol used to match <b style=\"color:yellow\">zero or more</b> occurences of the pattern <b style=\"color:yellow\">left to it</b>\n",
    "\n",
    "\n",
    "| Expression | String | Matched       |\n",
    "|------------|--------|---------------|\n",
    "|            | hi     | Matched(0 occurences)|\n",
    "|     ma*    | a man  | Matched( 2 occurences of 'a')  |\n",
    "|            | boss   | Matched(0 occurences)  |\n",
    "|            | ABP New| Matched(0 occurences)      |"
   ]
  },
  {
   "cell_type": "code",
   "execution_count": 29,
   "metadata": {},
   "outputs": [
    {
     "name": "stdout",
     "output_type": "stream",
     "text": [
      "man\t Matched\n",
      "main\t Matched\n",
      "manan\t Matched\n",
      "mnam\t Matched\n",
      "web\t Matched\n"
     ]
    }
   ],
   "source": [
    "# using * symbol\n",
    "# it will match even if zero occurences of pattern\n",
    "# i.e for \"web\"\n",
    "\n",
    "strings = [\"man\", \"main\", \"manan\", \"mnam\", \"web\"]\n",
    "pattern = \"(ma)*\"\n",
    "\n",
    "for string in strings:\n",
    "    print(f\"{string}\\t\", \"Matched\" if re.match(pattern, string) else \"No Match\")"
   ]
  },
  {
   "cell_type": "markdown",
   "metadata": {},
   "source": [
    "### 5.**`+` Plus**\n",
    "\n",
    "The `+` symbol is used to match <b style=\"color:yellow\"> one or more</b> occurences of pattern <b style=\"color:yellow\">left to it</b>\n",
    "\n",
    "| Expression | string | Matched? |\n",
    "|------------|--------|----------|\n",
    "| `ma+n`     | man    | Matched  |\n",
    "|            | mn     | No Match (no a present)|\n",
    "|            | maan   | Match    |\n",
    "\n",
    "\n",
    "In above pattern it will match 'm' followed by one or more occurences of 'a' followed by 'n'"
   ]
  },
  {
   "cell_type": "code",
   "execution_count": 60,
   "metadata": {},
   "outputs": [
    {
     "name": "stdout",
     "output_type": "stream",
     "text": [
      "man\t Matched\n",
      "mn\t No Match\n",
      "manan\t Matched\n"
     ]
    }
   ],
   "source": [
    "strings = [\"man\", \"mn\",\"manan\"]\n",
    "pattern = \"ma+n\"\n",
    "\n",
    "for string in strings:\n",
    "    print(f'{string}\\t', \"Matched\" if re.match(pattern, string) else \"No Match\")"
   ]
  },
  {
   "cell_type": "markdown",
   "metadata": {},
   "source": [
    "### 6. `?` **Question Mark**\n",
    "\n",
    "The `?` symbol is used to match <b style=\"color:yellow\">zero or one</b> occurences of pattern <b style=\"color:yellow\">left to it</b>.\n",
    "\n",
    "\n",
    "| Expression | String | Matched? |\n",
    "|------------|--------|----------|\n",
    "|  `ab?`     | abc    | Match    |\n",
    "|            | abbc   | Match(a is followed by one occurence of 'b' rest is neglected)    |\n",
    "|            | aabc   | Match    |\n",
    "|            | aac    | Match (zero occurence of 'b')|\n",
    "|            | bc     | No match (No 'a' ) |\n"
   ]
  },
  {
   "cell_type": "code",
   "execution_count": 67,
   "metadata": {},
   "outputs": [
    {
     "name": "stdout",
     "output_type": "stream",
     "text": [
      "abc\t Matched\n",
      "abbc\t Matched\n",
      "aabc\t Matched\n",
      "aac\t Matched\n",
      "bc\t No Match\n"
     ]
    }
   ],
   "source": [
    "strings = [\"abc\", \"abbc\", \"aabc\", \"aac\", \"bc\"]\n",
    "pattern = \"ab?\"\n",
    "\n",
    "for string in strings:\n",
    "    print(f\"{string}\\t\", \"Matched\" if re.match(pattern, string) else \"No Match\")"
   ]
  },
  {
   "cell_type": "code",
   "execution_count": null,
   "metadata": {},
   "outputs": [],
   "source": []
  }
 ],
 "metadata": {
  "kernelspec": {
   "display_name": "Python 3",
   "language": "python",
   "name": "python3"
  },
  "language_info": {
   "codemirror_mode": {
    "name": "ipython",
    "version": 3
   },
   "file_extension": ".py",
   "mimetype": "text/x-python",
   "name": "python",
   "nbconvert_exporter": "python",
   "pygments_lexer": "ipython3",
   "version": "3.12.4"
  }
 },
 "nbformat": 4,
 "nbformat_minor": 2
}
