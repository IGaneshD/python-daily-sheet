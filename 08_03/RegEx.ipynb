{
 "cells": [
  {
   "cell_type": "markdown",
   "metadata": {},
   "source": [
    "# RegEx\n",
    "\n",
    "A Regular Expression (RegEx) is a sequence of characters that defines a search pattern.\n",
    "\n",
    "For Example,\n",
    "\n",
    "```md\n",
    "^a...s$\n",
    "\n",
    "```\n",
    "\n",
    "The above code defines a RegEx pattern. The pattern is: any five letter string starting with `a` and ending with `s`."
   ]
  },
  {
   "cell_type": "markdown",
   "metadata": {},
   "source": [
    "## python module for Regular Expression\n",
    "\n",
    "python has `re` module to deal with regular expression"
   ]
  },
  {
   "cell_type": "code",
   "execution_count": 5,
   "metadata": {},
   "outputs": [],
   "source": [
    "# import re\n",
    "import re"
   ]
  },
  {
   "cell_type": "code",
   "execution_count": 6,
   "metadata": {},
   "outputs": [
    {
     "name": "stdout",
     "output_type": "stream",
     "text": [
      "matched\n"
     ]
    }
   ],
   "source": [
    "# checking if there is match for `^a...s$`\n",
    "\n",
    "pattern = '^a...s$'\n",
    "string = \"abbas\"\n",
    "\n",
    "result = re.match(pattern, string)\n",
    "\n",
    "if result:\n",
    "    print('matched')\n",
    "else:\n",
    "    print('No match')"
   ]
  },
  {
   "cell_type": "markdown",
   "metadata": {},
   "source": [
    "### Python re.match method\n",
    "\n",
    "re.match --> checks if there is match for given pattern \n",
    "\n",
    "* `if match found` --> returns `match` object\n",
    "* otherwise ---> returns `None`"
   ]
  },
  {
   "cell_type": "markdown",
   "metadata": {},
   "source": [
    "## Specify Pattern Using RegEx\n",
    "\n",
    "\n",
    "To create Regular Expression Patterns we use `MetaCharacters`"
   ]
  },
  {
   "cell_type": "markdown",
   "metadata": {},
   "source": [
    "### MetaCharacters\n",
    "Metacharacters are characters that are interpreted in a special way by a RegEx engine. \n",
    "\n",
    "Here's a list of metacharacters:\n",
    "\n",
    "**[] . ^ $ * + ? {} () \\ |**"
   ]
  },
  {
   "cell_type": "markdown",
   "metadata": {},
   "source": [
    "### 1. **[] - Square brackets**\n",
    "\n",
    "Square brackets specifies a set of characters you wish to match.\n",
    "\n",
    "| Expression | String | Matched       |\n",
    "|------------|--------|---------------|\n",
    "|            | hi     | No Match      |\n",
    "|[abcde]     | a man  | Matched('a')  |\n",
    "|            | boss   | Matched('b')  |\n",
    "|            | ABP New| No Match      |\n",
    "\n",
    "\n",
    "\n",
    "above expression check if either `a, b, c, d, or e` is present in the string if matches for any character in character set returns match object\n",
    "\n",
    "\n",
    "#### You can also specify a range of characters using - inside square brackets.\n",
    "* [abcdef] - [a-z]\n",
    "* [0123456789] - [0-9]\n",
    "* [A-Z]\n",
    "* [a-z]\n",
    "* [0-59] - same as [0123459]\n",
    "* [a-zA-Z]\n",
    "\n",
    "#### You can complement (invert) the character set by using caret ^ symbol at the start of a square-bracket.\n",
    "* [^a-z] - No small case alphabets\n",
    "* [^0-9] - No digits\n",
    "\n",
    "\n",
    "<h3 style=\"color:red; font-weight:800\">Note</h3>\n",
    "\n",
    "\n",
    "if you use square bracket pattern with re.match it will check whether the string starts with any of the character present within character set."
   ]
  },
  {
   "cell_type": "code",
   "execution_count": 13,
   "metadata": {},
   "outputs": [
    {
     "name": "stdout",
     "output_type": "stream",
     "text": [
      "hi\t No Match\n",
      "man\t No Match\n",
      "boss\t matched\n",
      "ABP New\t No Match\n"
     ]
    }
   ],
   "source": [
    "# check for above strings\n",
    "\n",
    "pattern = \"[abcde]\"\n",
    "strings = [\"hi\", \"a man\", \"boss\", \"ABP New\"]\n",
    "\n",
    "for string in strings:\n",
    "    print(f\"{string}\\t\", \"matched\" if re.match(pattern, string) else \"No Match\")"
   ]
  },
  {
   "cell_type": "code",
   "execution_count": 12,
   "metadata": {},
   "outputs": [
    {
     "name": "stdout",
     "output_type": "stream",
     "text": [
      "Ganesh09\t No Match\n",
      "Ruturaj\t No Match\n",
      "Ashok00\t No Match\n",
      "Sanket\t No Match\n"
     ]
    }
   ],
   "source": [
    "# using given range\n",
    "\n",
    "pattern = \"[012345678]\"\n",
    "strings = [\"Ganesh09\", \"Ruturaj\", \"Ashok00\", \"Sanket\"]\n",
    "\n",
    "for string in strings:\n",
    "    print(f\"{string}\\t\", \"matched\" if re.match(pattern, string) else \"No Match\")"
   ]
  }
 ],
 "metadata": {
  "kernelspec": {
   "display_name": "Python 3",
   "language": "python",
   "name": "python3"
  },
  "language_info": {
   "codemirror_mode": {
    "name": "ipython",
    "version": 3
   },
   "file_extension": ".py",
   "mimetype": "text/x-python",
   "name": "python",
   "nbconvert_exporter": "python",
   "pygments_lexer": "ipython3",
   "version": "3.12.4"
  }
 },
 "nbformat": 4,
 "nbformat_minor": 2
}
