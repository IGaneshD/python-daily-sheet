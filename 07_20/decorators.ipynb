{
 "cells": [
  {
   "cell_type": "markdown",
   "metadata": {},
   "source": [
    "# Decorators\n",
    "In Python, a decorator is a design pattern that allows you to `modify the functionality of a function` by wrapping it in another function.\n",
    "\n",
    "The `outer function` is called the `decorator`, which takes the original function as an argument and returns a modified version of it."
   ]
  },
  {
   "cell_type": "markdown",
   "metadata": {},
   "source": [
    "### Nested Function"
   ]
  },
  {
   "cell_type": "code",
   "execution_count": 1,
   "metadata": {},
   "outputs": [],
   "source": [
    "def outer(x):\n",
    "    def inner(y):\n",
    "        return x+y\n",
    "    return inner\n",
    "\n",
    "add_ten = outer(10)\n",
    "result = add_ten(5)"
   ]
  },
  {
   "cell_type": "markdown",
   "metadata": {},
   "source": [
    "### Pass Function as Argument\n",
    "We can pass a `function` as an `argument` to another function in Python"
   ]
  },
  {
   "cell_type": "code",
   "execution_count": null,
   "metadata": {},
   "outputs": [],
   "source": [
    "def add(x,y):\n",
    "    return x+y\n",
    "\n",
    "def calculate(function, x,y):\n",
    "    return function(x,y)\n",
    "\n",
    "print(calculate(add, 10, 23))"
   ]
  },
  {
   "cell_type": "markdown",
   "metadata": {},
   "source": [
    "### Return Function As Value\n",
    "We can return function as value"
   ]
  },
  {
   "cell_type": "code",
   "execution_count": 7,
   "metadata": {},
   "outputs": [
    {
     "name": "stdout",
     "output_type": "stream",
     "text": [
      "Hello Ganesh\n"
     ]
    }
   ],
   "source": [
    "def greetings(name):\n",
    "    def hello():\n",
    "        return f\"Hello {name}\"\n",
    "    return hello\n",
    "\n",
    "greet = greetings(\"Ganesh\")\n",
    "print(greet())\n"
   ]
  },
  {
   "cell_type": "markdown",
   "metadata": {},
   "source": [
    "### How to Create Decorator"
   ]
  },
  {
   "cell_type": "code",
   "execution_count": null,
   "metadata": {},
   "outputs": [],
   "source": [
    "def decorate(function):\n",
    "    def takeFloat():\n",
    "        a = float(input(\"Enter Any Number\"))\n",
    "        function(a)\n",
    "    return takeFloat\n",
    "\n",
    "def floatToInt(a):\n",
    "    print(int(a))\n",
    "\n",
    "floatInt = decorate(floatToInt)\n",
    "floatInt()"
   ]
  },
  {
   "cell_type": "markdown",
   "metadata": {},
   "source": [
    "### decorator with @ symbol"
   ]
  },
  {
   "cell_type": "code",
   "execution_count": 1,
   "metadata": {},
   "outputs": [],
   "source": [
    "def decorate(function):\n",
    "    def takeFloat():\n",
    "        a = float(input(\"Enter Any Number\"))\n",
    "        function(a)\n",
    "    return takeFloat\n",
    "\n",
    "@decorate\n",
    "def floatToInt(a):\n",
    "    print(int(a))\n",
    "    \n"
   ]
  },
  {
   "cell_type": "markdown",
   "metadata": {},
   "source": [
    "### Decorator with Parameters"
   ]
  },
  {
   "cell_type": "code",
   "execution_count": null,
   "metadata": {},
   "outputs": [],
   "source": [
    "def decorate(function):\n",
    "    def inner(a,b):\n",
    "        if b==0:\n",
    "            print(\"Cannot Divide\")\n",
    "            return\n",
    "        return function(a,b)\n",
    "    return inner\n",
    "\n",
    "@decorate\n",
    "def divide(a,b):\n",
    "    print(a/b)\n",
    "    \n",
    "divide(22, 11)\n",
    "divide(13, 0)"
   ]
  }
 ],
 "metadata": {
  "kernelspec": {
   "display_name": "Python 3",
   "language": "python",
   "name": "python3"
  },
  "language_info": {
   "codemirror_mode": {
    "name": "ipython",
    "version": 3
   },
   "file_extension": ".py",
   "mimetype": "text/x-python",
   "name": "python",
   "nbconvert_exporter": "python",
   "pygments_lexer": "ipython3",
   "version": "3.12.4"
  }
 },
 "nbformat": 4,
 "nbformat_minor": 2
}
