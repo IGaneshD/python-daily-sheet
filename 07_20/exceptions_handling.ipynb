{
 "cells": [
  {
   "cell_type": "markdown",
   "metadata": {},
   "source": [
    "# Python Exception Handling"
   ]
  },
  {
   "cell_type": "markdown",
   "metadata": {},
   "source": [
    "### try...except "
   ]
  },
  {
   "cell_type": "code",
   "execution_count": 3,
   "metadata": {},
   "outputs": [
    {
     "name": "stdout",
     "output_type": "stream",
     "text": [
      "2.0\n",
      "Something went Wrong\n"
     ]
    }
   ],
   "source": [
    "def divide(a,b):\n",
    "    try:\n",
    "        print(a/b)\n",
    "    except:\n",
    "        print(\"Something went Wrong\")\n",
    "\n",
    "divide(4, 2)\n",
    "divide(4, 0) # will raise ZeroDivisionError --> except block will handle this\n",
    "\n",
    "# To Handle each exception indivisually\n",
    "# def divide(a,b):\n",
    "#     try:\n",
    "#         print(a/b)\n",
    "#     except ZeroDivisionError: \n",
    "#         print(\"Cannot Divide by 0\")\n",
    "#     except:\n",
    "#         print(\"something went wrong\")\n",
    "    \n"
   ]
  },
  {
   "cell_type": "markdown",
   "metadata": {},
   "source": [
    "### try...else block"
   ]
  },
  {
   "cell_type": "code",
   "execution_count": null,
   "metadata": {},
   "outputs": [],
   "source": [
    "# try:\n",
    "    # something goes here\n",
    "# except:\n",
    "    # something is handled here\n",
    "# else:\n",
    "    # something is goes here if no exception is raised\n",
    "    # if any exception happen here then need to handle this Exception"
   ]
  },
  {
   "cell_type": "markdown",
   "metadata": {},
   "source": [
    "### try...except...finally\n",
    "\n",
    "finally block will be excuted in all situations whether any exception triggered or not"
   ]
  },
  {
   "cell_type": "code",
   "execution_count": 8,
   "metadata": {},
   "outputs": [
    {
     "name": "stdout",
     "output_type": "stream",
     "text": [
      "Error: Denominator cannot be 0.\n",
      "Thank You\n"
     ]
    }
   ],
   "source": [
    "try:\n",
    "    numerator = 10\n",
    "    denominator = 0\n",
    "\n",
    "    result = numerator/denominator\n",
    "\n",
    "    print(result)\n",
    "except:\n",
    "    print(\"Error: Denominator cannot be 0.\")\n",
    "    \n",
    "finally:\n",
    "    print(\"Thank You\")"
   ]
  }
 ],
 "metadata": {
  "kernelspec": {
   "display_name": "Python 3",
   "language": "python",
   "name": "python3"
  },
  "language_info": {
   "codemirror_mode": {
    "name": "ipython",
    "version": 3
   },
   "file_extension": ".py",
   "mimetype": "text/x-python",
   "name": "python",
   "nbconvert_exporter": "python",
   "pygments_lexer": "ipython3",
   "version": "3.12.4"
  }
 },
 "nbformat": 4,
 "nbformat_minor": 2
}
